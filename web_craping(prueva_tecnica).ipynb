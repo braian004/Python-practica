{
 "cells": [
  {
   "cell_type": "code",
   "execution_count": 18,
   "metadata": {},
   "outputs": [],
   "source": [
    "import pandas as pd\n",
    "import requests\n",
    "from bs4 import BeautifulSoup\n",
    "from lxml import etree\n",
    "import os"
   ]
  },
  {
   "cell_type": "code",
   "execution_count": 46,
   "metadata": {},
   "outputs": [],
   "source": [
    "r = requests.get(\"https://listado.mercadolibre.com.ar/pc-gamers\")"
   ]
  },
  {
   "cell_type": "code",
   "execution_count": 20,
   "metadata": {},
   "outputs": [
    {
     "data": {
      "text/plain": [
       "200"
      ]
     },
     "execution_count": 20,
     "metadata": {},
     "output_type": "execute_result"
    }
   ],
   "source": [
    "r.status_code"
   ]
  },
  {
   "cell_type": "code",
   "execution_count": 21,
   "metadata": {},
   "outputs": [],
   "source": [
    "soup = BeautifulSoup(r.content,'html.parser')\n"
   ]
  },
  {
   "cell_type": "code",
   "execution_count": 62,
   "metadata": {},
   "outputs": [],
   "source": [
    "titulos = soup.find_all(\"h2\",attrs={\"class\":\"ui-search-item__title\"})\n",
    "# titulos #another way to resolve\n",
    "# titulos = soup.find_all('h2',class_=\"ui-search-item__title\")\n",
    "titulos =[i.text for i in titulos]\n",
    "# df = pd.DataFrame({'titulos':titulos})\n",
    "# df"
   ]
  },
  {
   "cell_type": "code",
   "execution_count": 67,
   "metadata": {},
   "outputs": [
    {
     "data": {
      "text/html": [
       "<div>\n",
       "<style scoped>\n",
       "    .dataframe tbody tr th:only-of-type {\n",
       "        vertical-align: middle;\n",
       "    }\n",
       "\n",
       "    .dataframe tbody tr th {\n",
       "        vertical-align: top;\n",
       "    }\n",
       "\n",
       "    .dataframe thead th {\n",
       "        text-align: right;\n",
       "    }\n",
       "</style>\n",
       "<table border=\"1\" class=\"dataframe\">\n",
       "  <thead>\n",
       "    <tr style=\"text-align: right;\">\n",
       "      <th></th>\n",
       "      <th>urls</th>\n",
       "    </tr>\n",
       "  </thead>\n",
       "  <tbody>\n",
       "    <tr>\n",
       "      <th>0</th>\n",
       "      <td>https://click1.mercadolibre.com.ar/mclics/clic...</td>\n",
       "    </tr>\n",
       "    <tr>\n",
       "      <th>1</th>\n",
       "      <td>https://articulo.mercadolibre.com.ar/MLA-93229...</td>\n",
       "    </tr>\n",
       "    <tr>\n",
       "      <th>2</th>\n",
       "      <td>https://articulo.mercadolibre.com.ar/MLA-11332...</td>\n",
       "    </tr>\n",
       "    <tr>\n",
       "      <th>3</th>\n",
       "      <td>https://articulo.mercadolibre.com.ar/MLA-11440...</td>\n",
       "    </tr>\n",
       "    <tr>\n",
       "      <th>4</th>\n",
       "      <td>https://articulo.mercadolibre.com.ar/MLA-11045...</td>\n",
       "    </tr>\n",
       "    <tr>\n",
       "      <th>5</th>\n",
       "      <td>https://articulo.mercadolibre.com.ar/MLA-12591...</td>\n",
       "    </tr>\n",
       "    <tr>\n",
       "      <th>6</th>\n",
       "      <td>https://articulo.mercadolibre.com.ar/MLA-11167...</td>\n",
       "    </tr>\n",
       "    <tr>\n",
       "      <th>7</th>\n",
       "      <td>https://articulo.mercadolibre.com.ar/MLA-88166...</td>\n",
       "    </tr>\n",
       "    <tr>\n",
       "      <th>8</th>\n",
       "      <td>https://articulo.mercadolibre.com.ar/MLA-13910...</td>\n",
       "    </tr>\n",
       "    <tr>\n",
       "      <th>9</th>\n",
       "      <td>https://articulo.mercadolibre.com.ar/MLA-81293...</td>\n",
       "    </tr>\n",
       "    <tr>\n",
       "      <th>10</th>\n",
       "      <td>https://click1.mercadolibre.com.ar/mclics/clic...</td>\n",
       "    </tr>\n",
       "    <tr>\n",
       "      <th>11</th>\n",
       "      <td>https://click1.mercadolibre.com.ar/mclics/clic...</td>\n",
       "    </tr>\n",
       "    <tr>\n",
       "      <th>12</th>\n",
       "      <td>https://articulo.mercadolibre.com.ar/MLA-11505...</td>\n",
       "    </tr>\n",
       "    <tr>\n",
       "      <th>13</th>\n",
       "      <td>https://articulo.mercadolibre.com.ar/MLA-11044...</td>\n",
       "    </tr>\n",
       "    <tr>\n",
       "      <th>14</th>\n",
       "      <td>https://articulo.mercadolibre.com.ar/MLA-13808...</td>\n",
       "    </tr>\n",
       "    <tr>\n",
       "      <th>15</th>\n",
       "      <td>https://articulo.mercadolibre.com.ar/MLA-14275...</td>\n",
       "    </tr>\n",
       "    <tr>\n",
       "      <th>16</th>\n",
       "      <td>https://articulo.mercadolibre.com.ar/MLA-93478...</td>\n",
       "    </tr>\n",
       "    <tr>\n",
       "      <th>17</th>\n",
       "      <td>https://articulo.mercadolibre.com.ar/MLA-11155...</td>\n",
       "    </tr>\n",
       "    <tr>\n",
       "      <th>18</th>\n",
       "      <td>https://articulo.mercadolibre.com.ar/MLA-13222...</td>\n",
       "    </tr>\n",
       "    <tr>\n",
       "      <th>19</th>\n",
       "      <td>https://articulo.mercadolibre.com.ar/MLA-75205...</td>\n",
       "    </tr>\n",
       "    <tr>\n",
       "      <th>20</th>\n",
       "      <td>https://articulo.mercadolibre.com.ar/MLA-90196...</td>\n",
       "    </tr>\n",
       "    <tr>\n",
       "      <th>21</th>\n",
       "      <td>https://articulo.mercadolibre.com.ar/MLA-12071...</td>\n",
       "    </tr>\n",
       "    <tr>\n",
       "      <th>22</th>\n",
       "      <td>https://articulo.mercadolibre.com.ar/MLA-11385...</td>\n",
       "    </tr>\n",
       "    <tr>\n",
       "      <th>23</th>\n",
       "      <td>https://articulo.mercadolibre.com.ar/MLA-13683...</td>\n",
       "    </tr>\n",
       "    <tr>\n",
       "      <th>24</th>\n",
       "      <td>https://articulo.mercadolibre.com.ar/MLA-14206...</td>\n",
       "    </tr>\n",
       "    <tr>\n",
       "      <th>25</th>\n",
       "      <td>https://articulo.mercadolibre.com.ar/MLA-13728...</td>\n",
       "    </tr>\n",
       "    <tr>\n",
       "      <th>26</th>\n",
       "      <td>https://articulo.mercadolibre.com.ar/MLA-82840...</td>\n",
       "    </tr>\n",
       "    <tr>\n",
       "      <th>27</th>\n",
       "      <td>https://articulo.mercadolibre.com.ar/MLA-11005...</td>\n",
       "    </tr>\n",
       "    <tr>\n",
       "      <th>28</th>\n",
       "      <td>https://articulo.mercadolibre.com.ar/MLA-11452...</td>\n",
       "    </tr>\n",
       "    <tr>\n",
       "      <th>29</th>\n",
       "      <td>https://articulo.mercadolibre.com.ar/MLA-11844...</td>\n",
       "    </tr>\n",
       "    <tr>\n",
       "      <th>30</th>\n",
       "      <td>https://articulo.mercadolibre.com.ar/MLA-13911...</td>\n",
       "    </tr>\n",
       "    <tr>\n",
       "      <th>31</th>\n",
       "      <td>https://articulo.mercadolibre.com.ar/MLA-14006...</td>\n",
       "    </tr>\n",
       "    <tr>\n",
       "      <th>32</th>\n",
       "      <td>https://articulo.mercadolibre.com.ar/MLA-88231...</td>\n",
       "    </tr>\n",
       "    <tr>\n",
       "      <th>33</th>\n",
       "      <td>https://articulo.mercadolibre.com.ar/MLA-11284...</td>\n",
       "    </tr>\n",
       "    <tr>\n",
       "      <th>34</th>\n",
       "      <td>https://articulo.mercadolibre.com.ar/MLA-13139...</td>\n",
       "    </tr>\n",
       "    <tr>\n",
       "      <th>35</th>\n",
       "      <td>https://articulo.mercadolibre.com.ar/MLA-13883...</td>\n",
       "    </tr>\n",
       "    <tr>\n",
       "      <th>36</th>\n",
       "      <td>https://articulo.mercadolibre.com.ar/MLA-68342...</td>\n",
       "    </tr>\n",
       "    <tr>\n",
       "      <th>37</th>\n",
       "      <td>https://articulo.mercadolibre.com.ar/MLA-61700...</td>\n",
       "    </tr>\n",
       "    <tr>\n",
       "      <th>38</th>\n",
       "      <td>https://articulo.mercadolibre.com.ar/MLA-14836...</td>\n",
       "    </tr>\n",
       "    <tr>\n",
       "      <th>39</th>\n",
       "      <td>https://articulo.mercadolibre.com.ar/MLA-11086...</td>\n",
       "    </tr>\n",
       "    <tr>\n",
       "      <th>40</th>\n",
       "      <td>https://articulo.mercadolibre.com.ar/MLA-13728...</td>\n",
       "    </tr>\n",
       "    <tr>\n",
       "      <th>41</th>\n",
       "      <td>https://articulo.mercadolibre.com.ar/MLA-11086...</td>\n",
       "    </tr>\n",
       "    <tr>\n",
       "      <th>42</th>\n",
       "      <td>https://articulo.mercadolibre.com.ar/MLA-13417...</td>\n",
       "    </tr>\n",
       "    <tr>\n",
       "      <th>43</th>\n",
       "      <td>https://articulo.mercadolibre.com.ar/MLA-60759...</td>\n",
       "    </tr>\n",
       "    <tr>\n",
       "      <th>44</th>\n",
       "      <td>https://articulo.mercadolibre.com.ar/MLA-86457...</td>\n",
       "    </tr>\n",
       "    <tr>\n",
       "      <th>45</th>\n",
       "      <td>https://articulo.mercadolibre.com.ar/MLA-86996...</td>\n",
       "    </tr>\n",
       "    <tr>\n",
       "      <th>46</th>\n",
       "      <td>https://articulo.mercadolibre.com.ar/MLA-11451...</td>\n",
       "    </tr>\n",
       "    <tr>\n",
       "      <th>47</th>\n",
       "      <td>https://articulo.mercadolibre.com.ar/MLA-86990...</td>\n",
       "    </tr>\n",
       "    <tr>\n",
       "      <th>48</th>\n",
       "      <td>https://articulo.mercadolibre.com.ar/MLA-71249...</td>\n",
       "    </tr>\n",
       "    <tr>\n",
       "      <th>49</th>\n",
       "      <td>https://articulo.mercadolibre.com.ar/MLA-90848...</td>\n",
       "    </tr>\n",
       "    <tr>\n",
       "      <th>50</th>\n",
       "      <td>https://articulo.mercadolibre.com.ar/MLA-14402...</td>\n",
       "    </tr>\n",
       "  </tbody>\n",
       "</table>\n",
       "</div>"
      ],
      "text/plain": [
       "                                                 urls\n",
       "0   https://click1.mercadolibre.com.ar/mclics/clic...\n",
       "1   https://articulo.mercadolibre.com.ar/MLA-93229...\n",
       "2   https://articulo.mercadolibre.com.ar/MLA-11332...\n",
       "3   https://articulo.mercadolibre.com.ar/MLA-11440...\n",
       "4   https://articulo.mercadolibre.com.ar/MLA-11045...\n",
       "5   https://articulo.mercadolibre.com.ar/MLA-12591...\n",
       "6   https://articulo.mercadolibre.com.ar/MLA-11167...\n",
       "7   https://articulo.mercadolibre.com.ar/MLA-88166...\n",
       "8   https://articulo.mercadolibre.com.ar/MLA-13910...\n",
       "9   https://articulo.mercadolibre.com.ar/MLA-81293...\n",
       "10  https://click1.mercadolibre.com.ar/mclics/clic...\n",
       "11  https://click1.mercadolibre.com.ar/mclics/clic...\n",
       "12  https://articulo.mercadolibre.com.ar/MLA-11505...\n",
       "13  https://articulo.mercadolibre.com.ar/MLA-11044...\n",
       "14  https://articulo.mercadolibre.com.ar/MLA-13808...\n",
       "15  https://articulo.mercadolibre.com.ar/MLA-14275...\n",
       "16  https://articulo.mercadolibre.com.ar/MLA-93478...\n",
       "17  https://articulo.mercadolibre.com.ar/MLA-11155...\n",
       "18  https://articulo.mercadolibre.com.ar/MLA-13222...\n",
       "19  https://articulo.mercadolibre.com.ar/MLA-75205...\n",
       "20  https://articulo.mercadolibre.com.ar/MLA-90196...\n",
       "21  https://articulo.mercadolibre.com.ar/MLA-12071...\n",
       "22  https://articulo.mercadolibre.com.ar/MLA-11385...\n",
       "23  https://articulo.mercadolibre.com.ar/MLA-13683...\n",
       "24  https://articulo.mercadolibre.com.ar/MLA-14206...\n",
       "25  https://articulo.mercadolibre.com.ar/MLA-13728...\n",
       "26  https://articulo.mercadolibre.com.ar/MLA-82840...\n",
       "27  https://articulo.mercadolibre.com.ar/MLA-11005...\n",
       "28  https://articulo.mercadolibre.com.ar/MLA-11452...\n",
       "29  https://articulo.mercadolibre.com.ar/MLA-11844...\n",
       "30  https://articulo.mercadolibre.com.ar/MLA-13911...\n",
       "31  https://articulo.mercadolibre.com.ar/MLA-14006...\n",
       "32  https://articulo.mercadolibre.com.ar/MLA-88231...\n",
       "33  https://articulo.mercadolibre.com.ar/MLA-11284...\n",
       "34  https://articulo.mercadolibre.com.ar/MLA-13139...\n",
       "35  https://articulo.mercadolibre.com.ar/MLA-13883...\n",
       "36  https://articulo.mercadolibre.com.ar/MLA-68342...\n",
       "37  https://articulo.mercadolibre.com.ar/MLA-61700...\n",
       "38  https://articulo.mercadolibre.com.ar/MLA-14836...\n",
       "39  https://articulo.mercadolibre.com.ar/MLA-11086...\n",
       "40  https://articulo.mercadolibre.com.ar/MLA-13728...\n",
       "41  https://articulo.mercadolibre.com.ar/MLA-11086...\n",
       "42  https://articulo.mercadolibre.com.ar/MLA-13417...\n",
       "43  https://articulo.mercadolibre.com.ar/MLA-60759...\n",
       "44  https://articulo.mercadolibre.com.ar/MLA-86457...\n",
       "45  https://articulo.mercadolibre.com.ar/MLA-86996...\n",
       "46  https://articulo.mercadolibre.com.ar/MLA-11451...\n",
       "47  https://articulo.mercadolibre.com.ar/MLA-86990...\n",
       "48  https://articulo.mercadolibre.com.ar/MLA-71249...\n",
       "49  https://articulo.mercadolibre.com.ar/MLA-90848...\n",
       "50  https://articulo.mercadolibre.com.ar/MLA-14402..."
      ]
     },
     "execution_count": 67,
     "metadata": {},
     "output_type": "execute_result"
    }
   ],
   "source": [
    "# urls = soup.find_all(\"a\",attrs={\"class\":\"ui-search-item__group__element ui-search-link\"})\n",
    "urls = soup.find_all('a',class_='ui-search-item__group__element ui-search-link')\n",
    "urls = [i.get('href')for i in urls]\n",
    "df = pd.DataFrame({'urls':urls})\n",
    "df"
   ]
  },
  {
   "cell_type": "markdown",
   "metadata": {},
   "source": [
    "### precios"
   ]
  },
  {
   "cell_type": "code",
   "execution_count": 60,
   "metadata": {},
   "outputs": [],
   "source": [
    "precios = soup.find_all('span',class_=\"andes-money-amount ui-search-price__part ui-search-price__part--medium andes-money-amount--cents-superscript\")\n",
    "precios = [i.text for i in precios]\n",
    "# df = pd.DataFrame({'precios':precios})\n",
    "# df\n"
   ]
  },
  {
   "cell_type": "code",
   "execution_count": 61,
   "metadata": {},
   "outputs": [
    {
     "ename": "ValueError",
     "evalue": "All arrays must be of the same length",
     "output_type": "error",
     "traceback": [
      "\u001b[1;31m---------------------------------------------------------------------------\u001b[0m",
      "\u001b[1;31mValueError\u001b[0m                                Traceback (most recent call last)",
      "\u001b[1;32mc:\\Users\\Tito\\Desktop\\Python-practica\\webscraping\\rocode\\web_craping(prueva_tecnica).ipynb Cell 9\u001b[0m line \u001b[0;36m1\n\u001b[1;32m----> <a href='vscode-notebook-cell:/c%3A/Users/Tito/Desktop/Python-practica/webscraping/rocode/web_craping%28prueva_tecnica%29.ipynb#X11sZmlsZQ%3D%3D?line=0'>1</a>\u001b[0m df \u001b[39m=\u001b[39m pd\u001b[39m.\u001b[39;49mDataFrame({\u001b[39m\"\u001b[39;49m\u001b[39mtitulos\u001b[39;49m\u001b[39m\"\u001b[39;49m:titulos,\u001b[39m\"\u001b[39;49m\u001b[39mprecios\u001b[39;49m\u001b[39m\"\u001b[39;49m:precios,\u001b[39m\"\u001b[39;49m\u001b[39murls\u001b[39;49m\u001b[39m\"\u001b[39;49m:urls})\n\u001b[0;32m      <a href='vscode-notebook-cell:/c%3A/Users/Tito/Desktop/Python-practica/webscraping/rocode/web_craping%28prueva_tecnica%29.ipynb#X11sZmlsZQ%3D%3D?line=1'>2</a>\u001b[0m df\n",
      "File \u001b[1;32mc:\\Users\\Tito\\AppData\\Local\\Programs\\Python\\Python311\\Lib\\site-packages\\pandas\\core\\frame.py:736\u001b[0m, in \u001b[0;36mDataFrame.__init__\u001b[1;34m(self, data, index, columns, dtype, copy)\u001b[0m\n\u001b[0;32m    730\u001b[0m     mgr \u001b[39m=\u001b[39m \u001b[39mself\u001b[39m\u001b[39m.\u001b[39m_init_mgr(\n\u001b[0;32m    731\u001b[0m         data, axes\u001b[39m=\u001b[39m{\u001b[39m\"\u001b[39m\u001b[39mindex\u001b[39m\u001b[39m\"\u001b[39m: index, \u001b[39m\"\u001b[39m\u001b[39mcolumns\u001b[39m\u001b[39m\"\u001b[39m: columns}, dtype\u001b[39m=\u001b[39mdtype, copy\u001b[39m=\u001b[39mcopy\n\u001b[0;32m    732\u001b[0m     )\n\u001b[0;32m    734\u001b[0m \u001b[39melif\u001b[39;00m \u001b[39misinstance\u001b[39m(data, \u001b[39mdict\u001b[39m):\n\u001b[0;32m    735\u001b[0m     \u001b[39m# GH#38939 de facto copy defaults to False only in non-dict cases\u001b[39;00m\n\u001b[1;32m--> 736\u001b[0m     mgr \u001b[39m=\u001b[39m dict_to_mgr(data, index, columns, dtype\u001b[39m=\u001b[39;49mdtype, copy\u001b[39m=\u001b[39;49mcopy, typ\u001b[39m=\u001b[39;49mmanager)\n\u001b[0;32m    737\u001b[0m \u001b[39melif\u001b[39;00m \u001b[39misinstance\u001b[39m(data, ma\u001b[39m.\u001b[39mMaskedArray):\n\u001b[0;32m    738\u001b[0m     \u001b[39mfrom\u001b[39;00m \u001b[39mnumpy\u001b[39;00m\u001b[39m.\u001b[39;00m\u001b[39mma\u001b[39;00m \u001b[39mimport\u001b[39;00m mrecords\n",
      "File \u001b[1;32mc:\\Users\\Tito\\AppData\\Local\\Programs\\Python\\Python311\\Lib\\site-packages\\pandas\\core\\internals\\construction.py:503\u001b[0m, in \u001b[0;36mdict_to_mgr\u001b[1;34m(data, index, columns, dtype, typ, copy)\u001b[0m\n\u001b[0;32m    499\u001b[0m     \u001b[39melse\u001b[39;00m:\n\u001b[0;32m    500\u001b[0m         \u001b[39m# dtype check to exclude e.g. range objects, scalars\u001b[39;00m\n\u001b[0;32m    501\u001b[0m         arrays \u001b[39m=\u001b[39m [x\u001b[39m.\u001b[39mcopy() \u001b[39mif\u001b[39;00m \u001b[39mhasattr\u001b[39m(x, \u001b[39m\"\u001b[39m\u001b[39mdtype\u001b[39m\u001b[39m\"\u001b[39m) \u001b[39melse\u001b[39;00m x \u001b[39mfor\u001b[39;00m x \u001b[39min\u001b[39;00m arrays]\n\u001b[1;32m--> 503\u001b[0m \u001b[39mreturn\u001b[39;00m arrays_to_mgr(arrays, columns, index, dtype\u001b[39m=\u001b[39;49mdtype, typ\u001b[39m=\u001b[39;49mtyp, consolidate\u001b[39m=\u001b[39;49mcopy)\n",
      "File \u001b[1;32mc:\\Users\\Tito\\AppData\\Local\\Programs\\Python\\Python311\\Lib\\site-packages\\pandas\\core\\internals\\construction.py:114\u001b[0m, in \u001b[0;36marrays_to_mgr\u001b[1;34m(arrays, columns, index, dtype, verify_integrity, typ, consolidate)\u001b[0m\n\u001b[0;32m    111\u001b[0m \u001b[39mif\u001b[39;00m verify_integrity:\n\u001b[0;32m    112\u001b[0m     \u001b[39m# figure out the index, if necessary\u001b[39;00m\n\u001b[0;32m    113\u001b[0m     \u001b[39mif\u001b[39;00m index \u001b[39mis\u001b[39;00m \u001b[39mNone\u001b[39;00m:\n\u001b[1;32m--> 114\u001b[0m         index \u001b[39m=\u001b[39m _extract_index(arrays)\n\u001b[0;32m    115\u001b[0m     \u001b[39melse\u001b[39;00m:\n\u001b[0;32m    116\u001b[0m         index \u001b[39m=\u001b[39m ensure_index(index)\n",
      "File \u001b[1;32mc:\\Users\\Tito\\AppData\\Local\\Programs\\Python\\Python311\\Lib\\site-packages\\pandas\\core\\internals\\construction.py:677\u001b[0m, in \u001b[0;36m_extract_index\u001b[1;34m(data)\u001b[0m\n\u001b[0;32m    675\u001b[0m lengths \u001b[39m=\u001b[39m \u001b[39mlist\u001b[39m(\u001b[39mset\u001b[39m(raw_lengths))\n\u001b[0;32m    676\u001b[0m \u001b[39mif\u001b[39;00m \u001b[39mlen\u001b[39m(lengths) \u001b[39m>\u001b[39m \u001b[39m1\u001b[39m:\n\u001b[1;32m--> 677\u001b[0m     \u001b[39mraise\u001b[39;00m \u001b[39mValueError\u001b[39;00m(\u001b[39m\"\u001b[39m\u001b[39mAll arrays must be of the same length\u001b[39m\u001b[39m\"\u001b[39m)\n\u001b[0;32m    679\u001b[0m \u001b[39mif\u001b[39;00m have_dicts:\n\u001b[0;32m    680\u001b[0m     \u001b[39mraise\u001b[39;00m \u001b[39mValueError\u001b[39;00m(\n\u001b[0;32m    681\u001b[0m         \u001b[39m\"\u001b[39m\u001b[39mMixing dicts with non-Series may lead to ambiguous ordering.\u001b[39m\u001b[39m\"\u001b[39m\n\u001b[0;32m    682\u001b[0m     )\n",
      "\u001b[1;31mValueError\u001b[0m: All arrays must be of the same length"
     ]
    }
   ],
   "source": [
    "df = pd.DataFrame({\"titulos\":titulos,\"precios\":precios,\"urls\":urls})\n",
    "df"
   ]
  },
  {
   "cell_type": "code",
   "execution_count": 26,
   "metadata": {},
   "outputs": [],
   "source": [
    "# Guardar el DataFrame en un archivo Excel.\n",
    "excel_file = 'web-scraping-pc.xlsx'\n",
    "# Guardar el DataFrame en un archivo Excel.\n",
    "df.to_excel(excel_file, index=False)\n"
   ]
  },
  {
   "cell_type": "code",
   "execution_count": 27,
   "metadata": {},
   "outputs": [
    {
     "data": {
      "text/plain": [
       "[<span class=\"andes-pagination__arrow-title\">Siguiente</span>]"
      ]
     },
     "execution_count": 27,
     "metadata": {},
     "output_type": "execute_result"
    }
   ],
   "source": [
    "# siguiente = dom.xpath('//div[@class=\"ui-search-pagination\"]//nav[@class=\"ui-search-pagination andes-pagination\"]//ul[@class=\"ui-search-pagination andes-pagination\"]//li[@class=\"andes-pagination__button andes-pagination__button--next\"]//a')\n",
    "siguiente = soup.find_all('span',class_=\"andes-pagination__arrow-title\")\n",
    "siguiente"
   ]
  },
  {
   "cell_type": "code",
   "execution_count": 28,
   "metadata": {},
   "outputs": [],
   "source": [
    "ini = soup.find('span',attrs={'class':\"andes-pagination__link\"}).text\n",
    "ini = int(ini)"
   ]
  },
  {
   "cell_type": "code",
   "execution_count": 29,
   "metadata": {},
   "outputs": [
    {
     "data": {
      "text/plain": [
       "<li class=\"andes-pagination__page-count\">de <!-- -->42</li>"
      ]
     },
     "execution_count": 29,
     "metadata": {},
     "output_type": "execute_result"
    }
   ],
   "source": [
    "can = soup.find('li',attrs={'class':'andes-pagination__page-count'})\n",
    "can"
   ]
  },
  {
   "cell_type": "code",
   "execution_count": 30,
   "metadata": {},
   "outputs": [
    {
     "data": {
      "text/plain": [
       "42"
      ]
     },
     "execution_count": 30,
     "metadata": {},
     "output_type": "execute_result"
    }
   ],
   "source": [
    "can = int(can.text.split(\" \")[1])\n",
    "can"
   ]
  },
  {
   "cell_type": "code",
   "execution_count": 31,
   "metadata": {},
   "outputs": [],
   "source": [
    "lista_titulos = []\n",
    "lista_urls = []\n",
    "lista_precios = []"
   ]
  },
  {
   "cell_type": "code",
   "execution_count": 38,
   "metadata": {},
   "outputs": [],
   "source": [
    "# siguente=\"https://listado.mercadolibre.com.ar/pc-gamers\"\n",
    "\n",
    "# while True :\n",
    "#     r= requests.get(siguiente)\n",
    "#     if r.status_code==200:\n",
    "#         soup = BeautifulSoup(r.content,'html.parser')\n",
    "#         #titulos\n",
    "#         titulos = soup.find_all(\"h2\",attrs={\"class\":\"ui-search-item__title\"})\n",
    "#         titulos = [i.text for i in titulos]\n",
    "#         lista_titulos.extend(titulos)\n",
    "#     #     #url\n",
    "#         urls = soup.find_all(\"a\",attrs={\"class\":\"ui-search-item__group__element ui-search-link\"})\n",
    "#         urls = [i.text for i in urls]\n",
    "#         lista_urls.extend(urls)\n",
    "#     #     #precios\n",
    "#     #     dom = etree.HTML(str(soup))\n",
    "#     #     precios = dom.xpath('//li[@class=\"ui-search-layout__item\"]//div[2]//div[2]//div[1]//div[1]//div[1]//div[1]//div[1]//span[2]')\n",
    "#         precios = soup.find_all('span',class_=\"andes-money-amount ui-search-price__part ui-search-price__part--medium andes-money-amount--cents-superscript\")\n",
    "#         precios = [i.text for i in precios]\n",
    "#         lista_precios.extend[precios]\n",
    "\n",
    "#         ini = soup.find('span',attrs={'class':\"andes-pagination__link\"}).text\n",
    "#         ini = int(ini)\n",
    "#         can = soup.find('li',attrs={'class':'andes-pagination__page-count'})\n",
    "#         can = int(can.text.split(\" \")[1])\n",
    "        \n",
    "#     else:\n",
    "#         break  \n",
    "#     print(ini,can)  \n",
    "#     if ini == can:\n",
    "#         break\n",
    "#     siguiente = soup.find_all('span',class_=\"andes-pagination__arrow-title\")\n",
    "    # siguiente = dom.xpath('//div[@class=\"ui-search-pagination\"]//nav[1]//ul[1]//li[3]//a')"
   ]
  },
  {
   "cell_type": "code",
   "execution_count": null,
   "metadata": {},
   "outputs": [],
   "source": []
  },
  {
   "cell_type": "code",
   "execution_count": 39,
   "metadata": {},
   "outputs": [
    {
     "name": "stdout",
     "output_type": "stream",
     "text": [
      "1 42\n"
     ]
    }
   ],
   "source": [
    "import requests\n",
    "from bs4 import BeautifulSoup\n",
    "\n",
    "lista_titulos = []\n",
    "lista_urls = []\n",
    "lista_precios = []\n",
    "\n",
    "siguiente = \"https://listado.mercadolibre.com.ar/pc-gamers\"\n",
    "\n",
    "while True:\n",
    "    r = requests.get(siguiente)\n",
    "    if r.status_code == 200:\n",
    "        soup = BeautifulSoup(r.content, 'html.parser')\n",
    "\n",
    "        # titulos\n",
    "        titulos = soup.find_all(\"h2\", attrs={\"class\": \"ui-search-item__title\"})\n",
    "        lista_titulos.extend([i.text for i in titulos])\n",
    "\n",
    "        # urls\n",
    "        urls = soup.find_all(\"a\", attrs={\"class\": \"ui-search-item__group__element ui-search-link\"})\n",
    "        lista_urls.extend([i['href'] for i in urls])\n",
    "\n",
    "        # precios\n",
    "        precios = soup.find_all('span', class_=\"andes-money-amount ui-search-price__part ui-search-price__part--medium andes-money-amount--cents-superscript\")\n",
    "        lista_precios.extend([i.text for i in precios])\n",
    "\n",
    "        ini = soup.find('span', attrs={'class': \"andes-pagination__link\"}).text\n",
    "        ini = int(ini)\n",
    "        can = soup.find('li', attrs={'class': 'andes-pagination__page-count'})\n",
    "        can = int(can.text.split(\" \")[1])\n",
    "    else:\n",
    "        break\n",
    "\n",
    "    print(ini, can)\n",
    "\n",
    "    if ini == can:\n",
    "        break\n",
    "\n",
    "    siguiente_element = soup.find('a', string='Siguiente')\n",
    "    if siguiente_element:\n",
    "        siguiente = siguiente_element['href']\n",
    "    else:\n",
    "        break\n"
   ]
  }
 ],
 "metadata": {
  "kernelspec": {
   "display_name": "Python 3",
   "language": "python",
   "name": "python3"
  },
  "language_info": {
   "codemirror_mode": {
    "name": "ipython",
    "version": 3
   },
   "file_extension": ".py",
   "mimetype": "text/x-python",
   "name": "python",
   "nbconvert_exporter": "python",
   "pygments_lexer": "ipython3",
   "version": "3.11.5"
  }
 },
 "nbformat": 4,
 "nbformat_minor": 2
}
