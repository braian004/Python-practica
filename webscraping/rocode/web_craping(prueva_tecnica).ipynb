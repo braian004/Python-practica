{
 "cells": [
  {
   "cell_type": "code",
   "execution_count": 7,
   "metadata": {},
   "outputs": [],
   "source": [
    "import pandas as pd\n",
    "import requests\n",
    "from bs4 import BeautifulSoup\n",
    "from lxml import etree\n",
    "# from selenium import webdriver\n",
    "# from webdriver_manager.microsoft import EdgeChromiumDriverManager\n",
    "# from webdriver_manager.chrome import ChromeDriverManager"
   ]
  },
  {
   "cell_type": "code",
   "execution_count": 9,
   "metadata": {},
   "outputs": [],
   "source": [
    "r = requests.get(\"https://listado.mercadolibre.com.ar/pc\")"
   ]
  },
  {
   "cell_type": "code",
   "execution_count": 10,
   "metadata": {},
   "outputs": [
    {
     "data": {
      "text/plain": [
       "200"
      ]
     },
     "execution_count": 10,
     "metadata": {},
     "output_type": "execute_result"
    }
   ],
   "source": [
    "r.status_code"
   ]
  },
  {
   "cell_type": "code",
   "execution_count": 11,
   "metadata": {},
   "outputs": [],
   "source": [
    "soup = BeautifulSoup(r.content,'html.parser')\n"
   ]
  },
  {
   "cell_type": "code",
   "execution_count": 12,
   "metadata": {},
   "outputs": [],
   "source": [
    "titulos = soup.find_all('h2',class_=\"ui-search-item__title\")"
   ]
  },
  {
   "cell_type": "code",
   "execution_count": 13,
   "metadata": {},
   "outputs": [],
   "source": [
    "titulos = [i.text for i in titulos]\n",
    "df = pd.DataFrame({'titulos':titulos})"
   ]
  },
  {
   "cell_type": "code",
   "execution_count": 48,
   "metadata": {},
   "outputs": [],
   "source": [
    "urls = soup.find_all(\"a\",attrs={\"class\":\"ui-search-item__group__element ui-search-link\"})"
   ]
  },
  {
   "cell_type": "code",
   "execution_count": 49,
   "metadata": {},
   "outputs": [
    {
     "data": {
      "text/plain": [
       "['https://click1.mercadolibre.com.ar/mclics/clicks/external/MLA/count?a=zHO%2F2ne7YAb1ssZDK6%2BJgLOkR4t8MSgjH0sTM64AxOn%2BIM%2Fm38Q092LI5ia%2FIFG3KnjNFR6AJh00J1ngI813JJfzmKX8GlHbaQfoi4mEI5Tj3G%2Bz9tF23EtfZ2zRtY3WQO3AQQC%2BJyLVqXdt1dF4pjZx7hr90RShR%2BLuYqfZHaYM3fhca%2BdnOmB9HUsrBiksJPBsfnHbmHeFo7qXXa4B7b4rypndOGiykCXLUw5ht5nx1zI7H5wpizUlJbhSjgeQ%2Fb7SIIINFk4BujSv7kGWfUcIXzG9K8yj8wGkGHsI8l%2BRdevhJUH%2FS06n8BkXrW%2BFN57iFJ3g42kHYR%2BmKa808Iuamc1DqqAfVxf8qUX94V%2BtKVdGUdvo%2FLwig4Xq62HAlHBXl0R09pncNxK0KV%2Fe%2Feb%2BOoIQwJY2tjHasUmCxoj4olH2ClksSdmXMS1EJHLQyXG86GDZ11RLkARApqaMWAvFJGNti75fFO54H40xFlyJ2pBXceDY4AVswsjfTKVgnA9Mo83%2BtKrc1dZawQX6xWYosGGtmwq7yHKtgmNLfLzjoTtEG%2FTTTiRNnuCIOmaiZ6Va%2F%2Fvlt5Oc0Gt4hje7QkyaylqQ1TwyQ1q3IBv8EFuUEObuZvKpQcDdor%2FPznPMWyuqRsDrrBWifDN2NOUPQ6BYCzHy2eJyZmET5ldESrE2ZdeeH6mqzPcZOsn%2Fxtfw%2BN31rKEel%2B6XnTkxSkxKtiLY3lQ%3D&e=mclics%2Fdifferential-cvr-factor%2B29495%2Cmclics%2Fsearch-list-ad-algorithm%2B16026%2Cmclics%2Fshow-pads-search-list%2B5146%2Cmclics%2Fshow-pads-global%2B5176&rb=x',\n",
       " 'https://click1.mercadolibre.com.ar/mclics/clicks/external/MLA/count?a=mxrL1Suo0O%2B%2BQc5%2BXE3cuNQkG5PKJws1h%2BuotQQNu26a9CMiuFHtCo2Mn1SMxHV9DR1LPc6MYapV9XHODPJv10Qv8vXN%2B5bdO4x8Ya%2FB18aPeokTgKdwqIKcrTNltTPPcoZeRgSUdK8XAWdr8G5F7HbGWZNcQ4DqHu5ODNflftybrXK5xXT88bZrAw4i1Ls9z5QB6z8Ro3XNNlZvmxAhpwAR0QgGnNUysjhdnjJ%2BRX%2FT8m%2Bts2TswMOp3fQyMx7jc262CGnpJrx20kj%2ByVo4%2FetbG0z6dKfRkrfRs%2BzFlMdzINXQHl5%2BzjXTN7kDDqcbRXOyCa%2FlGlbXdk946w4GdEafiwPdmrxaSQO9uHTMXR3XpXZQUAjhv7cf1%2BoFVCctMh1ls%2FX%2B9685j1jR%2BX7IjMjdKtw6e%2B%2BCCkScp34aeN0UJoi5LAD5LrqWnokHOewh54mvoVsWigmQb7l2HleRYa9c5q%2BYiFLHTwVn%2BnRhfED8kKZoFPoPYYBzrmPQtoOnw1Xu%2FvRQs5I2tAlZJ4%2BnLyJWmTLPfytbbXdWpvsa3LCBvmHj72TwJPvJ%2FY1MCZHXZyvm8%2FzUnE%2FfTJdrhOkCvwC75Orzs%2Bi81pYqGLxT3SX59WhMT95Rhhy0C4lw%2Bol5Tw%2BxNIYyTM9gjRWV8ldIIJ3zcz3kZzEAKjzRyogj2EYut4qRppc3Op8PLI1RHi3SIbdxHwKrleNpXpd%2FUFx4hNxaqGC081j5&e=mclics%2Fdifferential-cvr-factor%2B29495%2Cmclics%2Fsearch-list-ad-algorithm%2B16026%2Cmclics%2Fshow-pads-search-list%2B5146%2Cmclics%2Fshow-pads-global%2B5176&rb=x',\n",
       " 'https://click1.mercadolibre.com.ar/mclics/clicks/external/MLA/count?a=vRkj1jdNUIprRvZnB%2B6m%2FpLuHZZ0RNK3cRWMJ7zMQv459icxgBxZpDpzMnTiityb%2BqdtBu%2FySugOHV2evAZSadXMAvCnR5MrAe297Cmctrh9o7R77DqQ%2BOiB5BWuK0mf5qqj1R3GWVA%2BZSF1XLE0CTEEM6NBrFeyWiwKWICs3YPLZSBYOdDTVNzg0PNYB0gBYhbDVEp1upgivKyVVVPORZCPQLWLRdi60qLWfa6JaD3InTYePGdB3P%2BjJtOtIx0i6BnBRS3IKJKZnA%2FeZZ7vHHKHEOkh5yzMowdy8mnYeN2qMIJccPtKYTRPYT4cml%2FkXDW6E0D7VPrQl3eIkEGSAhkUndRgBjkYokFxiLh3ZR%2Fx9IKfsdvfidEAdFtbgakiFN9fqWCp6dCvGFt8muyr3w2mFlMBzH8sr1Aou3OLo%2F146hgrIOkLzCLHkFa4riYGXzoS4uSQCm0MdQelqSXbINZwujtHD2sff13dqJgAAzGHOWKpQDjezLTLQuIDExxnvtiryFG9clQ7djqhkE8jvpdJKEwWDXQ%2FVH9D4FRpd%2F6oh0PGA%2BR%2BXtQqhtBIHd2ChaeKdepQRZei%2FZyh%2F9ylFjq7niubKKXZqRcNCrqW5NaIqpADu59JzFeif6gcrtFCghEW%2BXEhV%2Bu5LP89KFYI2WHaHYZSm7Bo4E%2BkbkoI1ZwPpAB9aM1pUqXMZLLDFcuLjA1azeVZpeUXfNMatqBT3UZxVFkdVFA%3D&e=mclics%2Fdifferential-cvr-factor%2B29495%2Cmclics%2Fsearch-list-ad-algorithm%2B16026%2Cmclics%2Fshow-pads-search-list%2B5146%2Cmclics%2Fshow-pads-global%2B5176&rb=x',\n",
       " 'https://articulo.mercadolibre.com.ar/MLA-900114345-pc-armada-dual-core-8g-ssd240-gab-kit-wi-fi-w10-_JM#position=4&search_layout=grid&type=item&tracking_id=af847b69-9bb5-419d-a482-74932d645b96',\n",
       " 'https://articulo.mercadolibre.com.ar/MLA-1116693853-pc-armada-hogar-oficina-intel-8gb-ram-ssd-240gb-_JM#position=5&search_layout=grid&type=item&tracking_id=af847b69-9bb5-419d-a482-74932d645b96',\n",
       " 'https://articulo.mercadolibre.com.ar/MLA-930129754-pc-armada-intel-c-i3-8-gb-ram-ssd-240-gab-kit-w10-offic-_JM#position=6&search_layout=grid&type=item&tracking_id=af847b69-9bb5-419d-a482-74932d645b96',\n",
       " 'https://articulo.mercadolibre.com.ar/MLA-1106963999-pc-computadora-completa-intel-i3-1tb-8gb-con-monitor-led-19-_JM#position=7&search_layout=grid&type=item&tracking_id=af847b69-9bb5-419d-a482-74932d645b96',\n",
       " 'https://articulo.mercadolibre.com.ar/MLA-1408940684-pc-cpu-computadora-intel-core-i5-16gb-ram-ssd-480gb-_JM#position=8&search_layout=grid&type=item&tracking_id=af847b69-9bb5-419d-a482-74932d645b96',\n",
       " 'https://articulo.mercadolibre.com.ar/MLA-860966940-computadora-cpu-armada-intel-core-i5-8-gb-240-gb-ssd-_JM#position=9&search_layout=grid&type=item&tracking_id=af847b69-9bb5-419d-a482-74932d645b96',\n",
       " 'https://click1.mercadolibre.com.ar/mclics/clicks/external/MLA/count?a=3PqcTwTN4e6GDImzwAYaiF%2FEIShyxSBQ44BrcIdeQxA%2FoGKo%2FTJTccQSzSkeEUKhsnN9ESMXLfQFPyrV1zisQCoqTxVDbcOaMD3xQzlQDZNEFwnYVXFAWUnTupvjunRGy4S1PbW1itofd0n1KmHleS%2FUFoIkfb1D%2BJBaFTOgEKQCw0UOL4L4jhL95956RNW8fWnEnU35ksWoLPW6vrmYhz5lvp1T0Y5n6aDsanMW4S%2F%2Fv6no15hwh8RmwkLVOkqFNfllnl%2BiVl9ssZvMfFHOCQHd082qAutqRSNobzcyP2JnFnKdXG%2FFPjU8ho2AIoWIXe2WR98HgWtqDlNuYpzsCUhpUFx7Q1aIg1JjBkCq5xgHRnsqM0AikV4KXVo%2BylCe%2Br8Z4dsOy%2BJv4zVhMsRCMfePXf8xkKmSNfeXdG5TUGyqbK7EWMJyuEIABPXIhTueY%2FJ0VKz2cLU4tFIJ8IRo0%2Bk6mzWsv7jo8juylAgJWl2qJf8cuoRdldaXB2ooE3kRPcSsMsCb950bTBCMhUHgw1AdFNx9S17stxENbyw4T5uWtxcRiYXlFDt773Z1ozmlBHpjWQBnHlrhH9%2FxfCRRoDySTg1uRJyxM%2F%2FC5DFUnh7kOz8zjKXJjqs0SrbSQH7rQVLMLCyY1FHi3ouM2pDFb%2FVVR9Ig4FeMRAPf2%2BuuLCTUo8Fjk%2BR6ZTlbE7gSEyevTjVjKfJs%2Fvs%3D&e=mclics%2Fdifferential-cvr-factor%2B29495%2Cmclics%2Fsearch-list-ad-algorithm%2B16026%2Cmclics%2Fshow-pads-search-list%2B5146%2Cmclics%2Fshow-pads-global%2B5176&rb=x',\n",
       " 'https://click1.mercadolibre.com.ar/mclics/clicks/external/MLA/count?a=4K9OjjZZOR3%2BYfVKR43vb%2Ba5lsvq5N%2BZ2leZSgJH7Njlb3cPfOMX1J4yYxoZBY1araBTX%2BlLUIO6CfEV1D8Xk4ewdoKm5CGMx%2FI64zOuf4%2FjBulRJsdQ1BakgW8QcRhBrNjxnWynVq5FXgu0NadC80DwQYVOLS%2B%2BILISnDUvSt8foIUDsrL55RFRAyPeBOkbpFvEBRDmCvIlTZaf3waRocXU%2FNdwYwN1ab0%2F2Y9vgUe3gf52B6%2Bx3vZM9cEu7NL0hMlj81fhM%2FlcI%2FFuILMGPmlFXYIVt5fVoiSctD4wPHn0gNGU%2Fo7NbhUPOLyYEI5%2FqMgWGtxj8P8WQoKHXQkGuJ3LyWGeJ7PrmBGdpEnF%2BVbzS3NJT4hG7K7xFNeRp90o72V%2Fd3wTO1WoHj4xynoYXmZPb%2Bo4wyOHdOdAUECFYdw8ReNBbc2BCuNCz2%2BT6aJjawkAbHQT%2FYp2grg59U6T5J%2F%2FEZHNI%2B71WRR6D8dXL9LEUl%2B4ZHP23Ym5ApQGT744puRAG9k6%2F1VeRGc1XBZY%2Fwt5hCw3SOkqok7CcahAjBKc0XKg5yzM8NykyzFxXQl4wuWS7fBRLe2XS5SJe101t1vxTXNZ9598q0NfgzOb%2F52Sz%2Bv%2B1nd2kBz7yME3Hbv87eVprmEx21EyEavHgq9QnuuGJAccad9R2yL7wPcl2xs0sx%2Frqza0apoWf%2BKjZBQjS1zSnKvAW2CbrV4IEALjObDewQXMaFTJ&e=mclics%2Fdifferential-cvr-factor%2B29495%2Cmclics%2Fsearch-list-ad-algorithm%2B16026%2Cmclics%2Fshow-pads-search-list%2B5146%2Cmclics%2Fshow-pads-global%2B5176&rb=x',\n",
       " 'https://click1.mercadolibre.com.ar/mclics/clicks/external/MLA/count?a=JOCoaOc3rwhi9nfwEf5v5UhUm%2B0Q%2F1DlfOMBdtTU0F2S5k%2FlgoXoiYmd22GRy41AUQFFxiVqPKxe3MgYuOMO2tLDWN5BKK5mJ2KQ8Kp3MIeUbpSlbqFplcdmMQmvdC7lEVjuGEqTr27HpyVAcSA49Rkw1DCJeZaOVi%2Bb%2BAwMo7NCtal85udRu9%2FSiKco%2B%2BoP1g1jC7o3ZkbrKaJlJIiCDUJzj3VerYD6lmXI%2FjkrICOCAz1MhQzZ7oK77DCu0zUBbfE3PMu%2FzTh6OCpC13Sxd4m3si9mZAvabOF3f61x9HGO4YUz53AAq3XixcBBdvDByzbWwS%2FfBLO7PMTiKBUeUEhcYkvXDw84ByW%2B3jIkX8erTqQjrkvoVsKQPIbzK%2BhwOW3SiGedLXrf%2B0NtcHzEjqgtoE3gD7Vb0AqB8URE8hrGQDcd2PMpjnkGepYJP%2BUALKDvsS5Nu3%2F9SDGVK3ft3E0O3mUe5YHmmBO2Tjl80jZ8bwU5%2FhaAOIXFx9l3HZlcX9xAgf6u0%2ByvxTnHDC6QDDa023BX9hEQDLTE4ZjXTHpx0kP4Pz46JB3Qnbf5Bnc3G1CxPKdtqKjNLNsz0%2BKZvxR9u0b%2FK8AcVxa5hk6snsAOTv4kkcPbN3DwSNuzjKq1OTlx5r2UvTr3eYd7wE3A2%2F2a5%2FCiwoeFaJpWhlIqpc7lDkSXXRE8GT8TV7eqA9PIuyM7UiigscjRwFfjwgs%3D&e=mclics%2Fdifferential-cvr-factor%2B29495%2Cmclics%2Fsearch-list-ad-algorithm%2B16026%2Cmclics%2Fshow-pads-search-list%2B5146%2Cmclics%2Fshow-pads-global%2B5176&rb=x',\n",
       " 'https://articulo.mercadolibre.com.ar/MLA-1386285751-pc-hp-dell-8gb-ram-disco-250gb-monitor-de-17-lcd-wiffi-_JM#position=13&search_layout=grid&type=item&tracking_id=af847b69-9bb5-419d-a482-74932d645b96',\n",
       " 'https://articulo.mercadolibre.com.ar/MLA-843251983-computadora-completa-intel-core-2-duo-4gb-lcd-19-_JM#position=14&search_layout=grid&type=item&tracking_id=af847b69-9bb5-419d-a482-74932d645b96',\n",
       " 'https://articulo.mercadolibre.com.ar/MLA-1390872539-computadora-cpu-intel-amd-doble-nucleo-8-gb-500-gb-r-_JM#position=15&search_layout=grid&type=item&tracking_id=af847b69-9bb5-419d-a482-74932d645b96',\n",
       " 'https://articulo.mercadolibre.com.ar/MLA-932293921-pc-armada-gamer-amd-ryzen-5-5600g-12-nucleo-ram-16gb-ssd-480-_JM#position=16&search_layout=grid&type=item&tracking_id=af847b69-9bb5-419d-a482-74932d645b96',\n",
       " 'https://articulo.mercadolibre.com.ar/MLA-1115643127-pc-armada-intel-c-i3-8-gb-ssd-240-wi-fi-nueva-kit-_JM#position=17&search_layout=grid&type=item&tracking_id=af847b69-9bb5-419d-a482-74932d645b96',\n",
       " 'https://articulo.mercadolibre.com.ar/MLA-1117996599-pc-gamer-fornite-dota-2lolcsgo-amd-a8-8gb-ramssd240-_JM#position=18&search_layout=grid&type=item&tracking_id=af847b69-9bb5-419d-a482-74932d645b96',\n",
       " 'https://articulo.mercadolibre.com.ar/MLA-1109540842-pc-armada-i7-16-gigas-ssd-240-gab-wi-fi-teclado-y-mouse-_JM#position=19&search_layout=grid&type=item&tracking_id=af847b69-9bb5-419d-a482-74932d645b96',\n",
       " 'https://articulo.mercadolibre.com.ar/MLA-1447415460-computadora-completa-intel-core-i5-16-gb-480-ssd-monitor-19-_JM#position=20&search_layout=grid&type=item&tracking_id=af847b69-9bb5-419d-a482-74932d645b96',\n",
       " 'https://articulo.mercadolibre.com.ar/MLA-1410016802-pc-intel-celeron-dual-core-8gb-240gb-ssd-oficina-hogar-_JM#position=21&search_layout=grid&type=item&tracking_id=af847b69-9bb5-419d-a482-74932d645b96',\n",
       " 'https://articulo.mercadolibre.com.ar/MLA-683042967-pc-hp-dual-4gb-de-ram-disco-de-320-gb-wiffi-win-10-_JM#position=22&search_layout=grid&type=item&tracking_id=af847b69-9bb5-419d-a482-74932d645b96',\n",
       " 'https://articulo.mercadolibre.com.ar/MLA-1169090990-computadora-completa-hp-dual-core-8gb-ram-lcd-17-_JM#position=23&search_layout=grid&type=item&tracking_id=af847b69-9bb5-419d-a482-74932d645b96',\n",
       " 'https://articulo.mercadolibre.com.ar/MLA-881660408-pc-armada-gamer-intel-core-i5-10400-1tb-16gb-ram-ddr4-_JM#position=24&search_layout=grid&type=item&tracking_id=af847b69-9bb5-419d-a482-74932d645b96',\n",
       " 'https://articulo.mercadolibre.com.ar/MLA-1114670992-pc-armada-intel-core-i7-6700-1-tb-16gb-de-ram-graficos-hd-_JM#position=25&search_layout=grid&type=item&tracking_id=af847b69-9bb5-419d-a482-74932d645b96',\n",
       " 'https://articulo.mercadolibre.com.ar/MLA-1115174636-computadora-cpu-armada-intel-core-i5-16-gb-480-gb-ssd-_JM#position=26&search_layout=grid&type=item&tracking_id=af847b69-9bb5-419d-a482-74932d645b96',\n",
       " 'https://articulo.mercadolibre.com.ar/MLA-1524512792-cpu-dell-optiplex-780-core-2-duo-ram-4-gb-disco-160-gb-_JM#position=27&search_layout=grid&type=item&tracking_id=af847b69-9bb5-419d-a482-74932d645b96',\n",
       " 'https://articulo.mercadolibre.com.ar/MLA-1417268564-pc-armada-gamer-completa-amd-ryzen-5-4600g-1tb-ssd-16-_JM#position=28&search_layout=grid&type=item&tracking_id=af847b69-9bb5-419d-a482-74932d645b96',\n",
       " 'https://articulo.mercadolibre.com.ar/MLA-830034511-computadora-completa-intel-core-2-duo-4gb-wifilcd-17-vuela-_JM#position=29&search_layout=grid&type=item&tracking_id=af847b69-9bb5-419d-a482-74932d645b96',\n",
       " 'https://articulo.mercadolibre.com.ar/MLA-1371744187-computadora-pc-cpu-hogar-oficina-estudio-celeron-8gb-240-ssd-_JM#position=30&search_layout=grid&type=item&tracking_id=af847b69-9bb5-419d-a482-74932d645b96',\n",
       " 'https://articulo.mercadolibre.com.ar/MLA-1512653812-dell-optiplex-3000-sff-i5-16gb-500ssd-ub-mon-e2222h-n-_JM#position=31&search_layout=grid&type=item&tracking_id=af847b69-9bb5-419d-a482-74932d645b96',\n",
       " 'https://articulo.mercadolibre.com.ar/MLA-1175795592-computadora-cpu-armada-intel-core-i5-8-gb-240-gb-ssd-_JM#position=32&search_layout=grid&type=item&tracking_id=af847b69-9bb5-419d-a482-74932d645b96',\n",
       " 'https://articulo.mercadolibre.com.ar/MLA-1361134725-computadora-core-i5-16-gb-ssd-480-gb-factura-a--_JM#position=33&search_layout=grid&type=item&tracking_id=af847b69-9bb5-419d-a482-74932d645b96',\n",
       " 'https://articulo.mercadolibre.com.ar/MLA-927739661-pc-gamer-a10-9700-ddr4-8gb-ssd-240-radeongab-600w-_JM#position=34&search_layout=grid&type=item&tracking_id=af847b69-9bb5-419d-a482-74932d645b96',\n",
       " 'https://articulo.mercadolibre.com.ar/MLA-834046918-computadora-veloz-hpd-dual-core-4gb-ram-lcd-17-160-gb-wi-_JM#position=35&search_layout=grid&type=item&tracking_id=af847b69-9bb5-419d-a482-74932d645b96',\n",
       " 'https://articulo.mercadolibre.com.ar/MLA-1360794553-pc-core-2-duo-hp-dell-8-gb-de-ram-disco-de-160gb-win-10-_JM#position=36&search_layout=grid&type=item&tracking_id=af847b69-9bb5-419d-a482-74932d645b96',\n",
       " 'https://articulo.mercadolibre.com.ar/MLA-1376889699-pc-armada-amd-ryzen-3-3200g-8gb-ram-ssd-240-gb-gabinete-kit-_JM#position=37&search_layout=grid&type=item&tracking_id=af847b69-9bb5-419d-a482-74932d645b96',\n",
       " 'https://articulo.mercadolibre.com.ar/MLA-1528233812-servidor-hp-dl380-g10-dual-xeon-gold-40-nucleos-128gb-2x500w-_JM#position=38&search_layout=grid&type=item&tracking_id=af847b69-9bb5-419d-a482-74932d645b96',\n",
       " 'https://articulo.mercadolibre.com.ar/MLA-919886868-computadora-pc-dell-cpu-core-i5-8gb-de-ram-500-gb-wiffi-_JM#position=39&search_layout=grid&type=item&tracking_id=af847b69-9bb5-419d-a482-74932d645b96',\n",
       " 'https://articulo.mercadolibre.com.ar/MLA-1560639614-pc-dell-i3-4gb-6ta-generacion-monitor-teclado-mouse-_JM#position=40&search_layout=grid&type=item&tracking_id=af847b69-9bb5-419d-a482-74932d645b96',\n",
       " 'https://articulo.mercadolibre.com.ar/MLA-1442972228-computadora-completa-intel-core-i3-8-gb-240-ssd-monitor-19-_JM#position=41&search_layout=grid&type=item&tracking_id=af847b69-9bb5-419d-a482-74932d645b96',\n",
       " 'https://articulo.mercadolibre.com.ar/MLA-825128504-pc-gamer-athlon-3000g-35ghz-8-gb-ddr4-ssd-240-rade-_JM#position=42&search_layout=grid&type=item&tracking_id=af847b69-9bb5-419d-a482-74932d645b96',\n",
       " 'https://articulo.mercadolibre.com.ar/MLA-733789228-pc-ar-dual-core-intel-4-g-ram-hd-500-kit-wi-fi-w-10-_JM#position=43&search_layout=grid&type=item&tracking_id=af847b69-9bb5-419d-a482-74932d645b96',\n",
       " 'https://articulo.mercadolibre.com.ar/MLA-1109843185-pc-armada-intel-c-i3-8-gb-ssd-480-wi-fi-nueva-w10-office-_JM#position=44&search_layout=grid&type=item&tracking_id=af847b69-9bb5-419d-a482-74932d645b96',\n",
       " 'https://articulo.mercadolibre.com.ar/MLA-772518724-computadora-pc-core-2-duo-8gb-ram-ddr3-disco-500-gb-_JM#position=45&search_layout=grid&type=item&tracking_id=af847b69-9bb5-419d-a482-74932d645b96',\n",
       " 'https://articulo.mercadolibre.com.ar/MLA-1417089782-pc-armada-gamer-cpu-amd-ryzen-5-4600g-1tb-ssd-16g-ram-_JM#position=46&search_layout=grid&type=item&tracking_id=af847b69-9bb5-419d-a482-74932d645b96',\n",
       " 'https://articulo.mercadolibre.com.ar/MLA-1138242284-computadora-completa-quad-core-8gb-ram-ssd-wifi-monitor-win-_JM#position=47&search_layout=grid&type=item&tracking_id=af847b69-9bb5-419d-a482-74932d645b96',\n",
       " 'https://articulo.mercadolibre.com.ar/MLA-1382570989-pc-oficina-nsx-mb-msi-intel-cel-g5925-8gb-ssd-240gb-gab-slim-_JM#position=48&search_layout=grid&type=item&tracking_id=af847b69-9bb5-419d-a482-74932d645b96',\n",
       " 'https://articulo.mercadolibre.com.ar/MLA-614941082-computadora-completa-amd-intel-dual-core-monitor-led-19-lol-_JM#position=49&search_layout=grid&type=item&tracking_id=af847b69-9bb5-419d-a482-74932d645b96',\n",
       " 'https://articulo.mercadolibre.com.ar/MLA-1108430860-pc-armada-core-i3-8g-ssd240-gabinete-oulet-w10-oficc-_JM#position=50&search_layout=grid&type=item&tracking_id=af847b69-9bb5-419d-a482-74932d645b96',\n",
       " 'https://articulo.mercadolibre.com.ar/MLA-1163098912-pc-gamer-armada-amd-ryzen-5-5600g-612-nucleos-16gb-ssd480-_JM#position=51&search_layout=grid&type=item&tracking_id=af847b69-9bb5-419d-a482-74932d645b96',\n",
       " 'https://articulo.mercadolibre.com.ar/MLA-1107042283-pc-cpu-computadora-intel-i5-1tb-8gb-monitor-19-cuotas-sinte-_JM#position=52&search_layout=grid&type=item&tracking_id=af847b69-9bb5-419d-a482-74932d645b96',\n",
       " 'https://articulo.mercadolibre.com.ar/MLA-1104500198-computadora-gamer-pc-solarmax-amd-ryzen-7-5700g-32gb-480-ssd-_JM#position=53&search_layout=grid&type=item&tracking_id=af847b69-9bb5-419d-a482-74932d645b96',\n",
       " 'https://articulo.mercadolibre.com.ar/MLA-934786566-pc-armada-gamer-amd-ryzen-7-5700g-32gb-3200-480g-nvme-_JM#position=54&search_layout=grid&type=item&tracking_id=af847b69-9bb5-419d-a482-74932d645b96']"
      ]
     },
     "execution_count": 49,
     "metadata": {},
     "output_type": "execute_result"
    }
   ],
   "source": [
    "urls = [i.get('href')for i in urls]"
   ]
  },
  {
   "cell_type": "markdown",
   "metadata": {},
   "source": [
    "### precios usando dom.xpath"
   ]
  },
  {
   "cell_type": "code",
   "execution_count": 83,
   "metadata": {},
   "outputs": [],
   "source": [
    "dom = etree.HTML(str(soup))\n",
    "precios = dom.xpath(\"//span[@class='andes-money-amount__fraction' and @aria-hidden='true']/text()\")\n",
    "# <span class=\"andes-money-amount__fraction\" aria-hidden=\"true\">13.650</span>"
   ]
  },
  {
   "cell_type": "code",
   "execution_count": 84,
   "metadata": {},
   "outputs": [
    {
     "data": {
      "text/plain": [
       "['439.140',\n",
       " '80.691',\n",
       " '1.104.298',\n",
       " '285.490',\n",
       " '52.458',\n",
       " '179.990',\n",
       " '33.073',\n",
       " '190.299',\n",
       " '34.967',\n",
       " '238.999',\n",
       " '43.916',\n",
       " '299.999',\n",
       " '55.124',\n",
       " '343.998',\n",
       " '63.209',\n",
       " '247.990',\n",
       " '45.568',\n",
       " '229.999',\n",
       " '42.262',\n",
       " '416.998',\n",
       " '400',\n",
       " '159.000',\n",
       " '29.216',\n",
       " '139.999',\n",
       " '25.724',\n",
       " '129.990',\n",
       " '23.885',\n",
       " '699.999',\n",
       " '128.624',\n",
       " '239.999',\n",
       " '44.099',\n",
       " '285.000',\n",
       " '52.368',\n",
       " '375.999',\n",
       " '69.089',\n",
       " '389.990',\n",
       " '71.660',\n",
       " '277.785',\n",
       " '89.990',\n",
       " '16.535',\n",
       " '169.900',\n",
       " '31.219',\n",
       " '496.579',\n",
       " '91.246',\n",
       " '459.999',\n",
       " '84.524',\n",
       " '299.990',\n",
       " '55.123',\n",
       " '85.600',\n",
       " '15.729',\n",
       " '554.999',\n",
       " '101.981',\n",
       " '139.000',\n",
       " '25.541',\n",
       " '293.790',\n",
       " '53.983',\n",
       " '799.999',\n",
       " '146.999',\n",
       " '219.000',\n",
       " '40.241',\n",
       " '269.000',\n",
       " '49.428',\n",
       " '289.000',\n",
       " '53.103',\n",
       " '149.900',\n",
       " '27.544',\n",
       " '89.900',\n",
       " '16.519',\n",
       " '341.693',\n",
       " '62.786',\n",
       " '2.309.998',\n",
       " '2.078.999',\n",
       " '382.016',\n",
       " '239.900',\n",
       " '44.081',\n",
       " '199.799',\n",
       " '36.713',\n",
       " '294.990',\n",
       " '54.204',\n",
       " '315.000',\n",
       " '57.881',\n",
       " '149.999',\n",
       " '27.562',\n",
       " '246.999',\n",
       " '45.386',\n",
       " '119.990',\n",
       " '22.048',\n",
       " '479.999',\n",
       " '88.199',\n",
       " '268.786',\n",
       " '289.683',\n",
       " '53.229',\n",
       " '399.999',\n",
       " '73.499',\n",
       " '216.999',\n",
       " '39.873',\n",
       " '461.999',\n",
       " '84.892',\n",
       " '479.999',\n",
       " '1.104.298',\n",
       " '714.399',\n",
       " '131.270']"
      ]
     },
     "execution_count": 84,
     "metadata": {},
     "output_type": "execute_result"
    }
   ],
   "source": [
    "# precios = [i.text for i in precios]\n",
    "precios\n",
    "\n"
   ]
  },
  {
   "cell_type": "code",
   "execution_count": 38,
   "metadata": {},
   "outputs": [
    {
     "data": {
      "text/html": [
       "<div>\n",
       "<style scoped>\n",
       "    .dataframe tbody tr th:only-of-type {\n",
       "        vertical-align: middle;\n",
       "    }\n",
       "\n",
       "    .dataframe tbody tr th {\n",
       "        vertical-align: top;\n",
       "    }\n",
       "\n",
       "    .dataframe thead th {\n",
       "        text-align: right;\n",
       "    }\n",
       "</style>\n",
       "<table border=\"1\" class=\"dataframe\">\n",
       "  <thead>\n",
       "    <tr style=\"text-align: right;\">\n",
       "      <th></th>\n",
       "      <th>Precio</th>\n",
       "    </tr>\n",
       "  </thead>\n",
       "  <tbody>\n",
       "  </tbody>\n",
       "</table>\n",
       "</div>"
      ],
      "text/plain": [
       "Empty DataFrame\n",
       "Columns: [Precio]\n",
       "Index: []"
      ]
     },
     "execution_count": 38,
     "metadata": {},
     "output_type": "execute_result"
    }
   ],
   "source": [
    "precios = [elemento for elemento in precios if elemento is not None]\n",
    "precios = pd.DataFrame({'Precio': precios})\n",
    "precios"
   ]
  },
  {
   "cell_type": "markdown",
   "metadata": {},
   "source": [
    "#### precios good "
   ]
  },
  {
   "cell_type": "code",
   "execution_count": 61,
   "metadata": {},
   "outputs": [],
   "source": [
    "precios = soup.find_all(\"span\",class_=\"andes-money-amount ui-search-price__part ui-search-price__part--medium andes-money-amount--cents-superscript\")"
   ]
  },
  {
   "cell_type": "code",
   "execution_count": 62,
   "metadata": {},
   "outputs": [
    {
     "data": {
      "text/html": [
       "<div>\n",
       "<style scoped>\n",
       "    .dataframe tbody tr th:only-of-type {\n",
       "        vertical-align: middle;\n",
       "    }\n",
       "\n",
       "    .dataframe tbody tr th {\n",
       "        vertical-align: top;\n",
       "    }\n",
       "\n",
       "    .dataframe thead th {\n",
       "        text-align: right;\n",
       "    }\n",
       "</style>\n",
       "<table border=\"1\" class=\"dataframe\">\n",
       "  <thead>\n",
       "    <tr style=\"text-align: right;\">\n",
       "      <th></th>\n",
       "      <th>precios</th>\n",
       "    </tr>\n",
       "  </thead>\n",
       "  <tbody>\n",
       "    <tr>\n",
       "      <th>0</th>\n",
       "      <td>$439.140</td>\n",
       "    </tr>\n",
       "    <tr>\n",
       "      <th>1</th>\n",
       "      <td>$1.104.298</td>\n",
       "    </tr>\n",
       "    <tr>\n",
       "      <th>2</th>\n",
       "      <td>$285.490</td>\n",
       "    </tr>\n",
       "    <tr>\n",
       "      <th>3</th>\n",
       "      <td>$179.990</td>\n",
       "    </tr>\n",
       "    <tr>\n",
       "      <th>4</th>\n",
       "      <td>$190.299</td>\n",
       "    </tr>\n",
       "    <tr>\n",
       "      <th>5</th>\n",
       "      <td>$238.999</td>\n",
       "    </tr>\n",
       "    <tr>\n",
       "      <th>6</th>\n",
       "      <td>$299.999</td>\n",
       "    </tr>\n",
       "    <tr>\n",
       "      <th>7</th>\n",
       "      <td>$343.998</td>\n",
       "    </tr>\n",
       "    <tr>\n",
       "      <th>8</th>\n",
       "      <td>$247.990</td>\n",
       "    </tr>\n",
       "    <tr>\n",
       "      <th>9</th>\n",
       "      <td>$229.999</td>\n",
       "    </tr>\n",
       "    <tr>\n",
       "      <th>10</th>\n",
       "      <td>$416.998</td>\n",
       "    </tr>\n",
       "    <tr>\n",
       "      <th>11</th>\n",
       "      <td>$400</td>\n",
       "    </tr>\n",
       "    <tr>\n",
       "      <th>12</th>\n",
       "      <td>$159.000</td>\n",
       "    </tr>\n",
       "    <tr>\n",
       "      <th>13</th>\n",
       "      <td>$139.999</td>\n",
       "    </tr>\n",
       "    <tr>\n",
       "      <th>14</th>\n",
       "      <td>$129.990</td>\n",
       "    </tr>\n",
       "    <tr>\n",
       "      <th>15</th>\n",
       "      <td>$699.999</td>\n",
       "    </tr>\n",
       "    <tr>\n",
       "      <th>16</th>\n",
       "      <td>$239.999</td>\n",
       "    </tr>\n",
       "    <tr>\n",
       "      <th>17</th>\n",
       "      <td>$285.000</td>\n",
       "    </tr>\n",
       "    <tr>\n",
       "      <th>18</th>\n",
       "      <td>$375.999</td>\n",
       "    </tr>\n",
       "    <tr>\n",
       "      <th>19</th>\n",
       "      <td>$389.990</td>\n",
       "    </tr>\n",
       "    <tr>\n",
       "      <th>20</th>\n",
       "      <td>$277.785</td>\n",
       "    </tr>\n",
       "    <tr>\n",
       "      <th>21</th>\n",
       "      <td>$89.990</td>\n",
       "    </tr>\n",
       "    <tr>\n",
       "      <th>22</th>\n",
       "      <td>$169.900</td>\n",
       "    </tr>\n",
       "    <tr>\n",
       "      <th>23</th>\n",
       "      <td>$496.579</td>\n",
       "    </tr>\n",
       "    <tr>\n",
       "      <th>24</th>\n",
       "      <td>$459.999</td>\n",
       "    </tr>\n",
       "    <tr>\n",
       "      <th>25</th>\n",
       "      <td>$299.990</td>\n",
       "    </tr>\n",
       "    <tr>\n",
       "      <th>26</th>\n",
       "      <td>$85.600</td>\n",
       "    </tr>\n",
       "    <tr>\n",
       "      <th>27</th>\n",
       "      <td>$554.999</td>\n",
       "    </tr>\n",
       "    <tr>\n",
       "      <th>28</th>\n",
       "      <td>$139.000</td>\n",
       "    </tr>\n",
       "    <tr>\n",
       "      <th>29</th>\n",
       "      <td>$293.790</td>\n",
       "    </tr>\n",
       "    <tr>\n",
       "      <th>30</th>\n",
       "      <td>$799.999</td>\n",
       "    </tr>\n",
       "    <tr>\n",
       "      <th>31</th>\n",
       "      <td>$219.000</td>\n",
       "    </tr>\n",
       "    <tr>\n",
       "      <th>32</th>\n",
       "      <td>$269.000</td>\n",
       "    </tr>\n",
       "    <tr>\n",
       "      <th>33</th>\n",
       "      <td>$289.000</td>\n",
       "    </tr>\n",
       "    <tr>\n",
       "      <th>34</th>\n",
       "      <td>$149.900</td>\n",
       "    </tr>\n",
       "    <tr>\n",
       "      <th>35</th>\n",
       "      <td>$89.900</td>\n",
       "    </tr>\n",
       "    <tr>\n",
       "      <th>36</th>\n",
       "      <td>$341.693</td>\n",
       "    </tr>\n",
       "    <tr>\n",
       "      <th>37</th>\n",
       "      <td>$2.078.999</td>\n",
       "    </tr>\n",
       "    <tr>\n",
       "      <th>38</th>\n",
       "      <td>$239.900</td>\n",
       "    </tr>\n",
       "    <tr>\n",
       "      <th>39</th>\n",
       "      <td>$199.799</td>\n",
       "    </tr>\n",
       "    <tr>\n",
       "      <th>40</th>\n",
       "      <td>$294.990</td>\n",
       "    </tr>\n",
       "    <tr>\n",
       "      <th>41</th>\n",
       "      <td>$315.000</td>\n",
       "    </tr>\n",
       "    <tr>\n",
       "      <th>42</th>\n",
       "      <td>$149.999</td>\n",
       "    </tr>\n",
       "    <tr>\n",
       "      <th>43</th>\n",
       "      <td>$246.999</td>\n",
       "    </tr>\n",
       "    <tr>\n",
       "      <th>44</th>\n",
       "      <td>$119.990</td>\n",
       "    </tr>\n",
       "    <tr>\n",
       "      <th>45</th>\n",
       "      <td>$479.999</td>\n",
       "    </tr>\n",
       "    <tr>\n",
       "      <th>46</th>\n",
       "      <td>$268.786</td>\n",
       "    </tr>\n",
       "    <tr>\n",
       "      <th>47</th>\n",
       "      <td>$289.683</td>\n",
       "    </tr>\n",
       "    <tr>\n",
       "      <th>48</th>\n",
       "      <td>$399.999</td>\n",
       "    </tr>\n",
       "    <tr>\n",
       "      <th>49</th>\n",
       "      <td>$216.999</td>\n",
       "    </tr>\n",
       "    <tr>\n",
       "      <th>50</th>\n",
       "      <td>$461.999</td>\n",
       "    </tr>\n",
       "    <tr>\n",
       "      <th>51</th>\n",
       "      <td>$479.999</td>\n",
       "    </tr>\n",
       "    <tr>\n",
       "      <th>52</th>\n",
       "      <td>$1.104.298</td>\n",
       "    </tr>\n",
       "    <tr>\n",
       "      <th>53</th>\n",
       "      <td>$714.399</td>\n",
       "    </tr>\n",
       "  </tbody>\n",
       "</table>\n",
       "</div>"
      ],
      "text/plain": [
       "       precios\n",
       "0     $439.140\n",
       "1   $1.104.298\n",
       "2     $285.490\n",
       "3     $179.990\n",
       "4     $190.299\n",
       "5     $238.999\n",
       "6     $299.999\n",
       "7     $343.998\n",
       "8     $247.990\n",
       "9     $229.999\n",
       "10    $416.998\n",
       "11        $400\n",
       "12    $159.000\n",
       "13    $139.999\n",
       "14    $129.990\n",
       "15    $699.999\n",
       "16    $239.999\n",
       "17    $285.000\n",
       "18    $375.999\n",
       "19    $389.990\n",
       "20    $277.785\n",
       "21     $89.990\n",
       "22    $169.900\n",
       "23    $496.579\n",
       "24    $459.999\n",
       "25    $299.990\n",
       "26     $85.600\n",
       "27    $554.999\n",
       "28    $139.000\n",
       "29    $293.790\n",
       "30    $799.999\n",
       "31    $219.000\n",
       "32    $269.000\n",
       "33    $289.000\n",
       "34    $149.900\n",
       "35     $89.900\n",
       "36    $341.693\n",
       "37  $2.078.999\n",
       "38    $239.900\n",
       "39    $199.799\n",
       "40    $294.990\n",
       "41    $315.000\n",
       "42    $149.999\n",
       "43    $246.999\n",
       "44    $119.990\n",
       "45    $479.999\n",
       "46    $268.786\n",
       "47    $289.683\n",
       "48    $399.999\n",
       "49    $216.999\n",
       "50    $461.999\n",
       "51    $479.999\n",
       "52  $1.104.298\n",
       "53    $714.399"
      ]
     },
     "execution_count": 62,
     "metadata": {},
     "output_type": "execute_result"
    }
   ],
   "source": [
    "precios = [i.text for i in precios]\n",
    "df = pd.DataFrame({'precios':precios})\n",
    "df"
   ]
  },
  {
   "cell_type": "markdown",
   "metadata": {},
   "source": [
    "### download DataFrame y pasar a exel"
   ]
  },
  {
   "cell_type": "code",
   "execution_count": 22,
   "metadata": {},
   "outputs": [],
   "source": [
    "df = pd.DataFrame({'titulos':titulos,'precios':precios,'urls':urls})"
   ]
  },
  {
   "cell_type": "code",
   "execution_count": 23,
   "metadata": {},
   "outputs": [],
   "source": [
    "excel_file = 'pc-data.xlsx'\n",
    "csv_file = 'pc-data.csv'\n",
    "df.to_csv(excel_file, index=False)\n",
    "df.to_csv(csv_file, index= False)"
   ]
  },
  {
   "cell_type": "markdown",
   "metadata": {},
   "source": [
    "### all pages"
   ]
  },
  {
   "cell_type": "code",
   "execution_count": 44,
   "metadata": {},
   "outputs": [
    {
     "data": {
      "text/plain": [
       "'https://listado.mercadolibre.com.ar/computacion/pc-escritorio/pc/es-gamer/pc-gamers_Desde_49_NoIndex_True'"
      ]
     },
     "execution_count": 44,
     "metadata": {},
     "output_type": "execute_result"
    }
   ],
   "source": [
    "siguente = soup.find_all('a',class_=\"andes-pagination__link ui-search-link\")[0].get('href')\n",
    "siguente"
   ]
  },
  {
   "cell_type": "code",
   "execution_count": 87,
   "metadata": {},
   "outputs": [],
   "source": [
    "siguente = dom.xpath(\"//a[@href='https://listado.mercadolibre.com.ar/computacion/pc-escritorio/pc/pc_Desde_49_NoIndex_True' and @class='andes-pagination__link ui-search-link' and @title='Siguiente' and @role='button' and @rel='nofollow']\")[0].get('href')"
   ]
  },
  {
   "cell_type": "code",
   "execution_count": 88,
   "metadata": {},
   "outputs": [
    {
     "data": {
      "text/plain": [
       "'https://listado.mercadolibre.com.ar/computacion/pc-escritorio/pc/pc_Desde_49_NoIndex_True'"
      ]
     },
     "execution_count": 88,
     "metadata": {},
     "output_type": "execute_result"
    }
   ],
   "source": [
    "siguente"
   ]
  },
  {
   "cell_type": "code",
   "execution_count": 46,
   "metadata": {},
   "outputs": [
    {
     "data": {
      "text/plain": [
       "1"
      ]
     },
     "execution_count": 46,
     "metadata": {},
     "output_type": "execute_result"
    }
   ],
   "source": [
    "ini = soup.find('span',class_=\"andes-pagination__link\").text\n",
    "ini = int(ini)\n",
    "ini"
   ]
  },
  {
   "cell_type": "code",
   "execution_count": 47,
   "metadata": {},
   "outputs": [
    {
     "data": {
      "text/plain": [
       "1"
      ]
     },
     "execution_count": 47,
     "metadata": {},
     "output_type": "execute_result"
    }
   ],
   "source": [
    "# //span[@class=\"andes-pagination__link\"]\n",
    "ini = soup.find('span',attrs={'class':\"andes-pagination__link\"}).text\n",
    "ini = int(ini)\n",
    "ini"
   ]
  },
  {
   "cell_type": "code",
   "execution_count": 48,
   "metadata": {},
   "outputs": [
    {
     "data": {
      "text/plain": [
       "42"
      ]
     },
     "execution_count": 48,
     "metadata": {},
     "output_type": "execute_result"
    }
   ],
   "source": [
    "can = soup.find('li',attrs={\"class\":\"andes-pagination__page-count\"})\n",
    "can = int(can.text.split(\" \")[1])#extraer solo el 42 \n",
    "can"
   ]
  },
  {
   "cell_type": "code",
   "execution_count": 49,
   "metadata": {},
   "outputs": [],
   "source": [
    "lista_titulos = []\n",
    "lista_urls = []\n",
    "lista_precios = []"
   ]
  },
  {
   "cell_type": "code",
   "execution_count": 50,
   "metadata": {},
   "outputs": [],
   "source": [
    "# import requests\n",
    "# from bs4 import BeautifulSoup\n",
    "\n",
    "# siguiente = \"https://listado.mercadolibre.com.ar/pc-gamers\"\n",
    "\n",
    "# while True:\n",
    "#     r = requests.get(siguiente)\n",
    "#     if r.status_code == 200:\n",
    "#         soup = BeautifulSoup(r.content, 'html.parser')\n",
    "\n",
    "#         # titulos\n",
    "#         titulos = soup.find_all('h2', class_=\"ui-search-item__title\")\n",
    "#         titulos = [i.text for i in titulos]\n",
    "#         lista_titulos.extend(titulos)\n",
    "\n",
    "#         # url\n",
    "#         urls = soup.find_all(\"a\", attrs={\"class\": \"ui-search-item__group__element ui-search-link\"})\n",
    "#         urls = [i['href'] for i in urls]\n",
    "#         lista_urls.extend(urls)\n",
    "\n",
    "#         # precios\n",
    "#         precios = soup.find_all(\"span\", class_=\"andes-money-amount ui-search-price__part ui-search-price__part--medium andes-money-amount--cents-superscript\")\n",
    "#         precios = [i.text for i in precios]\n",
    "#         lista_precios.extend(precios)\n",
    "\n",
    "#         ini = int(soup.find('span', class_=\"andes-pagination__link\").text)\n",
    "#         can = int(soup.find('li', attrs={\"class\": \"andes-pagination__page-count\"}).text.split(\" \")[1])\n",
    "#     else:\n",
    "#         break\n",
    "#     print(ini,can)\n",
    "#     if ini == can:\n",
    "#         break\n",
    "\n",
    "#     siguente = soup.find_all('a',class_=\"andes-pagination__link ui-search-link\")[0].get('href')\n",
    "    \n"
   ]
  },
  {
   "cell_type": "code",
   "execution_count": 95,
   "metadata": {},
   "outputs": [
    {
     "name": "stdout",
     "output_type": "stream",
     "text": [
      "                                                titulos     precios  \\\n",
      "0     Pc Armada Core I7 Intel 6 Gen 1 Tera 16 Gigas ...    $458.999   \n",
      "1     Pc De Escritorio Armada Completa Cpu Computado...    $377.310   \n",
      "2     Pc Completa +monitor De 17lcd +8gb De Ram +cor...    $169.900   \n",
      "3     Pc Armada Intel C I3 + 8 Gb Ram Ssd 240 Gab  K...    $238.999   \n",
      "4     Pc Computadora Completa Intel I3 1tb 8gb Con M...    $299.999   \n",
      "...                                                 ...         ...   \n",
      "2209  Server Ibm X3200 M3 Xeon 8x3,2ghz 8gb 500gb An...     $85.000   \n",
      "2210        Pc Armada Amd Athlon 320ge 8gb Ram Ssd Wifi    $303.199   \n",
      "2211  Pc Lenovo Thinkcentre M70s I5 10400,8gb Ram,25...    $600.000   \n",
      "2212  Pc Armada Intel Core I5 11400 H510 16gb Ssd 50...  $1.067.928   \n",
      "2213  Pc Gamer Cpu Amd Ryzen 9 5900x 32g Nvidia Rtx ...  $2.930.399   \n",
      "\n",
      "                                                   urls  \n",
      "0     https://click1.mercadolibre.com.ar/mclics/clic...  \n",
      "1     https://click1.mercadolibre.com.ar/mclics/clic...  \n",
      "2     https://click1.mercadolibre.com.ar/mclics/clic...  \n",
      "3     https://articulo.mercadolibre.com.ar/MLA-93012...  \n",
      "4     https://articulo.mercadolibre.com.ar/MLA-11069...  \n",
      "...                                                 ...  \n",
      "2209  https://articulo.mercadolibre.com.ar/MLA-14208...  \n",
      "2210  https://articulo.mercadolibre.com.ar/MLA-93526...  \n",
      "2211  https://articulo.mercadolibre.com.ar/MLA-13925...  \n",
      "2212  https://articulo.mercadolibre.com.ar/MLA-11119...  \n",
      "2213  https://articulo.mercadolibre.com.ar/MLA-11327...  \n",
      "\n",
      "[2214 rows x 3 columns]\n",
      "Número total de títulos: 2214\n",
      "Numero total de URL: 2214\n",
      "Numero total de precios: 2214\n"
     ]
    }
   ],
   "source": [
    "import requests\n",
    "from bs4 import BeautifulSoup\n",
    "import pandas as pd\n",
    "\n",
    "url_base = \"https://listado.mercadolibre.com.ar/computacion/pc-escritorio/pc/pc_Desde_{}_NoIndex_True\"\n",
    "total_titulos = 0\n",
    "total_urls = 0\n",
    "total_precios = 0\n",
    "\n",
    "# Listas para almacenar los datos\n",
    "titulos_totales = []\n",
    "urls_totales = []\n",
    "precios_totales = []\n",
    "\n",
    "for i in range(1, 1968, 48):\n",
    "    url = url_base.format(i)\n",
    "    response = requests.get(url)\n",
    "\n",
    "    if response.status_code == 200:\n",
    "        soup = BeautifulSoup(response.text, 'html.parser')\n",
    "\n",
    "        # Titulos\n",
    "        titulos = soup.find_all('h2', class_=\"ui-search-item__title\")\n",
    "        titulos = [titulo.text for titulo in titulos]\n",
    "        titulos_totales.extend(titulos)\n",
    "        total_titulos += len(titulos)\n",
    "\n",
    "        # URL\n",
    "        urls = soup.find_all(\"a\", attrs={\"class\": \"ui-search-item__group__element ui-search-link\"})\n",
    "        urls = [a['href'] for a in urls]\n",
    "        urls_totales.extend(urls)\n",
    "        total_urls += len(urls)\n",
    "\n",
    "        # Precios\n",
    "        precios = soup.find_all(\"span\", class_=\"andes-money-amount ui-search-price__part ui-search-price__part--medium andes-money-amount--cents-superscript\")\n",
    "        precios = [precio.text for precio in precios]\n",
    "        precios_totales.extend(precios)\n",
    "        total_precios += len(precios)\n",
    "\n",
    "    else:\n",
    "        print(f\"Error al acceder a la página {url}\")\n",
    "\n",
    "# Crear un DataFrame con los datos recopilados\n",
    "df = pd.DataFrame({'titulos': titulos_totales, 'precios': precios_totales, 'urls': urls_totales})\n",
    "\n",
    "# Imprimir el DataFrame\n",
    "print(df)\n",
    "\n",
    "# Imprimir el número total de títulos, URLs y precios\n",
    "print(f\"Número total de títulos: {total_titulos}\")\n",
    "print(f\"Numero total de URL: {total_urls}\")\n",
    "print(f\"Numero total de precios: {total_precios}\")\n"
   ]
  },
  {
   "cell_type": "code",
   "execution_count": 97,
   "metadata": {},
   "outputs": [
    {
     "data": {
      "text/html": [
       "<div>\n",
       "<style scoped>\n",
       "    .dataframe tbody tr th:only-of-type {\n",
       "        vertical-align: middle;\n",
       "    }\n",
       "\n",
       "    .dataframe tbody tr th {\n",
       "        vertical-align: top;\n",
       "    }\n",
       "\n",
       "    .dataframe thead th {\n",
       "        text-align: right;\n",
       "    }\n",
       "</style>\n",
       "<table border=\"1\" class=\"dataframe\">\n",
       "  <thead>\n",
       "    <tr style=\"text-align: right;\">\n",
       "      <th></th>\n",
       "      <th>titulos</th>\n",
       "      <th>precios</th>\n",
       "      <th>urls</th>\n",
       "    </tr>\n",
       "  </thead>\n",
       "  <tbody>\n",
       "    <tr>\n",
       "      <th>0</th>\n",
       "      <td>Pc Armada Core I7 Intel 6 Gen 1 Tera 16 Gigas ...</td>\n",
       "      <td>$458.999</td>\n",
       "      <td>https://click1.mercadolibre.com.ar/mclics/clic...</td>\n",
       "    </tr>\n",
       "    <tr>\n",
       "      <th>1</th>\n",
       "      <td>Pc De Escritorio Armada Completa Cpu Computado...</td>\n",
       "      <td>$377.310</td>\n",
       "      <td>https://click1.mercadolibre.com.ar/mclics/clic...</td>\n",
       "    </tr>\n",
       "    <tr>\n",
       "      <th>2</th>\n",
       "      <td>Pc Completa +monitor De 17lcd +8gb De Ram +cor...</td>\n",
       "      <td>$169.900</td>\n",
       "      <td>https://click1.mercadolibre.com.ar/mclics/clic...</td>\n",
       "    </tr>\n",
       "    <tr>\n",
       "      <th>3</th>\n",
       "      <td>Pc Armada Intel C I3 + 8 Gb Ram Ssd 240 Gab  K...</td>\n",
       "      <td>$238.999</td>\n",
       "      <td>https://articulo.mercadolibre.com.ar/MLA-93012...</td>\n",
       "    </tr>\n",
       "    <tr>\n",
       "      <th>4</th>\n",
       "      <td>Pc Computadora Completa Intel I3 1tb 8gb Con M...</td>\n",
       "      <td>$299.999</td>\n",
       "      <td>https://articulo.mercadolibre.com.ar/MLA-11069...</td>\n",
       "    </tr>\n",
       "    <tr>\n",
       "      <th>...</th>\n",
       "      <td>...</td>\n",
       "      <td>...</td>\n",
       "      <td>...</td>\n",
       "    </tr>\n",
       "    <tr>\n",
       "      <th>2209</th>\n",
       "      <td>Server Ibm X3200 M3 Xeon 8x3,2ghz 8gb 500gb An...</td>\n",
       "      <td>$85.000</td>\n",
       "      <td>https://articulo.mercadolibre.com.ar/MLA-14208...</td>\n",
       "    </tr>\n",
       "    <tr>\n",
       "      <th>2210</th>\n",
       "      <td>Pc Armada Amd Athlon 320ge 8gb Ram Ssd Wifi</td>\n",
       "      <td>$303.199</td>\n",
       "      <td>https://articulo.mercadolibre.com.ar/MLA-93526...</td>\n",
       "    </tr>\n",
       "    <tr>\n",
       "      <th>2211</th>\n",
       "      <td>Pc Lenovo Thinkcentre M70s I5 10400,8gb Ram,25...</td>\n",
       "      <td>$600.000</td>\n",
       "      <td>https://articulo.mercadolibre.com.ar/MLA-13925...</td>\n",
       "    </tr>\n",
       "    <tr>\n",
       "      <th>2212</th>\n",
       "      <td>Pc Armada Intel Core I5 11400 H510 16gb Ssd 50...</td>\n",
       "      <td>$1.067.928</td>\n",
       "      <td>https://articulo.mercadolibre.com.ar/MLA-11119...</td>\n",
       "    </tr>\n",
       "    <tr>\n",
       "      <th>2213</th>\n",
       "      <td>Pc Gamer Cpu Amd Ryzen 9 5900x 32g Nvidia Rtx ...</td>\n",
       "      <td>$2.930.399</td>\n",
       "      <td>https://articulo.mercadolibre.com.ar/MLA-11327...</td>\n",
       "    </tr>\n",
       "  </tbody>\n",
       "</table>\n",
       "<p>2214 rows × 3 columns</p>\n",
       "</div>"
      ],
      "text/plain": [
       "                                                titulos     precios  \\\n",
       "0     Pc Armada Core I7 Intel 6 Gen 1 Tera 16 Gigas ...    $458.999   \n",
       "1     Pc De Escritorio Armada Completa Cpu Computado...    $377.310   \n",
       "2     Pc Completa +monitor De 17lcd +8gb De Ram +cor...    $169.900   \n",
       "3     Pc Armada Intel C I3 + 8 Gb Ram Ssd 240 Gab  K...    $238.999   \n",
       "4     Pc Computadora Completa Intel I3 1tb 8gb Con M...    $299.999   \n",
       "...                                                 ...         ...   \n",
       "2209  Server Ibm X3200 M3 Xeon 8x3,2ghz 8gb 500gb An...     $85.000   \n",
       "2210        Pc Armada Amd Athlon 320ge 8gb Ram Ssd Wifi    $303.199   \n",
       "2211  Pc Lenovo Thinkcentre M70s I5 10400,8gb Ram,25...    $600.000   \n",
       "2212  Pc Armada Intel Core I5 11400 H510 16gb Ssd 50...  $1.067.928   \n",
       "2213  Pc Gamer Cpu Amd Ryzen 9 5900x 32g Nvidia Rtx ...  $2.930.399   \n",
       "\n",
       "                                                   urls  \n",
       "0     https://click1.mercadolibre.com.ar/mclics/clic...  \n",
       "1     https://click1.mercadolibre.com.ar/mclics/clic...  \n",
       "2     https://click1.mercadolibre.com.ar/mclics/clic...  \n",
       "3     https://articulo.mercadolibre.com.ar/MLA-93012...  \n",
       "4     https://articulo.mercadolibre.com.ar/MLA-11069...  \n",
       "...                                                 ...  \n",
       "2209  https://articulo.mercadolibre.com.ar/MLA-14208...  \n",
       "2210  https://articulo.mercadolibre.com.ar/MLA-93526...  \n",
       "2211  https://articulo.mercadolibre.com.ar/MLA-13925...  \n",
       "2212  https://articulo.mercadolibre.com.ar/MLA-11119...  \n",
       "2213  https://articulo.mercadolibre.com.ar/MLA-11327...  \n",
       "\n",
       "[2214 rows x 3 columns]"
      ]
     },
     "execution_count": 97,
     "metadata": {},
     "output_type": "execute_result"
    }
   ],
   "source": [
    "df"
   ]
  },
  {
   "cell_type": "code",
   "execution_count": 61,
   "metadata": {},
   "outputs": [],
   "source": [
    "\n",
    "# excel_file = 'pc-data-all'\n",
    "df.to_csv('pag_all.xlsx', index=False)"
   ]
  },
  {
   "cell_type": "code",
   "execution_count": null,
   "metadata": {},
   "outputs": [],
   "source": []
  }
 ],
 "metadata": {
  "kernelspec": {
   "display_name": "Python 3",
   "language": "python",
   "name": "python3"
  },
  "language_info": {
   "codemirror_mode": {
    "name": "ipython",
    "version": 3
   },
   "file_extension": ".py",
   "mimetype": "text/x-python",
   "name": "python",
   "nbconvert_exporter": "python",
   "pygments_lexer": "ipython3",
   "version": "3.11.5"
  }
 },
 "nbformat": 4,
 "nbformat_minor": 2
}
