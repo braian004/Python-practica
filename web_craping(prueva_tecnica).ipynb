{
 "cells": [
  {
   "cell_type": "code",
   "execution_count": 108,
   "metadata": {},
   "outputs": [],
   "source": [
    "import pandas as pd\n",
    "import requests\n",
    "from bs4 import BeautifulSoup\n",
    "from lxml import etree\n",
    "import os"
   ]
  },
  {
   "cell_type": "code",
   "execution_count": 58,
   "metadata": {},
   "outputs": [],
   "source": [
    "r = requests.get(\"https://listado.mercadolibre.com.ar/pc-gamers\")"
   ]
  },
  {
   "cell_type": "code",
   "execution_count": 59,
   "metadata": {},
   "outputs": [
    {
     "data": {
      "text/plain": [
       "200"
      ]
     },
     "execution_count": 59,
     "metadata": {},
     "output_type": "execute_result"
    }
   ],
   "source": [
    "r.status_code"
   ]
  },
  {
   "cell_type": "code",
   "execution_count": 62,
   "metadata": {},
   "outputs": [],
   "source": [
    "soup = BeautifulSoup(r.content,'html.parser')\n"
   ]
  },
  {
   "cell_type": "code",
   "execution_count": 75,
   "metadata": {},
   "outputs": [],
   "source": [
    "titulos = soup.find_all(\"h2\",attrs={\"class\":\"ui-search-item__title\"})\n",
    "# titulos #another way to resolve\n",
    "# titulos = soup.find_all('h2',class_=\"ui-search-item__title\")\n",
    "titulos =[i.text for i in titulos]\n",
    "# df = pd.DataFrame({'titulos':titulos})\n",
    "# df"
   ]
  },
  {
   "cell_type": "code",
   "execution_count": 76,
   "metadata": {},
   "outputs": [],
   "source": [
    "# urls = soup.find_all(\"a\",attrs={\"class\":\"ui-search-item__group__element ui-search-link\"})\n",
    "urls = soup.find_all('a',class_='ui-search-item__group__element ui-search-link')\n",
    "urls = [i.text for  i in urls]\n",
    "# df = pd.DataFrame({'urls':urls})\n",
    "# df"
   ]
  },
  {
   "cell_type": "markdown",
   "metadata": {},
   "source": [
    "### precios"
   ]
  },
  {
   "cell_type": "code",
   "execution_count": 104,
   "metadata": {},
   "outputs": [],
   "source": [
    "precios = soup.find_all('span',class_=\"andes-money-amount ui-search-price__part ui-search-price__part--medium andes-money-amount--cents-superscript\")\n",
    "precios = [i.text for i in precios]\n",
    "# df = pd.DataFrame({'precios':precios})\n",
    "# df\n"
   ]
  },
  {
   "cell_type": "code",
   "execution_count": 131,
   "metadata": {},
   "outputs": [],
   "source": [
    "df = pd.DataFrame({\"titulos\":titulos,\"precios\":precios,\"urls\":urls})"
   ]
  },
  {
   "cell_type": "code",
   "execution_count": 123,
   "metadata": {},
   "outputs": [],
   "source": [
    "# Guardar el DataFrame en un archivo Excel.\n",
    "excel_file = 'web-scraping-pc.xlsx'\n",
    "# Guardar el DataFrame en un archivo Excel.\n",
    "df.to_excel(excel_file, index=False)\n"
   ]
  },
  {
   "cell_type": "code",
   "execution_count": 124,
   "metadata": {},
   "outputs": [
    {
     "data": {
      "text/plain": [
       "[<span class=\"andes-pagination__arrow-title\">Siguiente</span>]"
      ]
     },
     "execution_count": 124,
     "metadata": {},
     "output_type": "execute_result"
    }
   ],
   "source": [
    "# siguiente = dom.xpath('//div[@class=\"ui-search-pagination\"]//nav[@class=\"ui-search-pagination andes-pagination\"]//ul[@class=\"ui-search-pagination andes-pagination\"]//li[@class=\"andes-pagination__button andes-pagination__button--next\"]//a')\n",
    "siguiente = soup.find_all('span',class_=\"andes-pagination__arrow-title\")\n",
    "siguiente"
   ]
  },
  {
   "cell_type": "code",
   "execution_count": 125,
   "metadata": {},
   "outputs": [],
   "source": [
    "ini = soup.find('span',attrs={'class':\"andes-pagination__link\"}).text\n",
    "ini = int(ini)"
   ]
  },
  {
   "cell_type": "code",
   "execution_count": 126,
   "metadata": {},
   "outputs": [
    {
     "data": {
      "text/plain": [
       "<li class=\"andes-pagination__page-count\">de <!-- -->42</li>"
      ]
     },
     "execution_count": 126,
     "metadata": {},
     "output_type": "execute_result"
    }
   ],
   "source": [
    "can = soup.find('li',attrs={'class':'andes-pagination__page-count'})\n",
    "can"
   ]
  },
  {
   "cell_type": "code",
   "execution_count": 127,
   "metadata": {},
   "outputs": [
    {
     "data": {
      "text/plain": [
       "42"
      ]
     },
     "execution_count": 127,
     "metadata": {},
     "output_type": "execute_result"
    }
   ],
   "source": [
    "can = int(can.text.split(\" \")[1])\n",
    "can"
   ]
  },
  {
   "cell_type": "code",
   "execution_count": 128,
   "metadata": {},
   "outputs": [],
   "source": [
    "lista_titulos = []\n",
    "lista_urls = []\n",
    "lista_precios = []"
   ]
  },
  {
   "cell_type": "code",
   "execution_count": 130,
   "metadata": {},
   "outputs": [
    {
     "ename": "InvalidURL",
     "evalue": "Failed to parse: [<span class=\"andes-pagination__arrow-title\">Siguiente</span>]",
     "output_type": "error",
     "traceback": [
      "\u001b[1;31m---------------------------------------------------------------------------\u001b[0m",
      "\u001b[1;31mAttributeError\u001b[0m                            Traceback (most recent call last)",
      "File \u001b[1;32mc:\\Users\\Tito\\AppData\\Local\\Programs\\Python\\Python311\\Lib\\site-packages\\urllib3\\util\\url.py:425\u001b[0m, in \u001b[0;36mparse_url\u001b[1;34m(url)\u001b[0m\n\u001b[0;32m    424\u001b[0m auth \u001b[39m=\u001b[39m auth \u001b[39mor\u001b[39;00m \u001b[39mNone\u001b[39;00m\n\u001b[1;32m--> 425\u001b[0m host, port \u001b[39m=\u001b[39m _HOST_PORT_RE\u001b[39m.\u001b[39;49mmatch(host_port)\u001b[39m.\u001b[39;49mgroups()  \u001b[39m# type: ignore[union-attr]\u001b[39;00m\n\u001b[0;32m    426\u001b[0m \u001b[39mif\u001b[39;00m auth \u001b[39mand\u001b[39;00m normalize_uri:\n",
      "\u001b[1;31mAttributeError\u001b[0m: 'NoneType' object has no attribute 'groups'",
      "\nThe above exception was the direct cause of the following exception:\n",
      "\u001b[1;31mLocationParseError\u001b[0m                        Traceback (most recent call last)",
      "File \u001b[1;32mc:\\Users\\Tito\\AppData\\Local\\Programs\\Python\\Python311\\Lib\\site-packages\\requests\\models.py:434\u001b[0m, in \u001b[0;36mPreparedRequest.prepare_url\u001b[1;34m(self, url, params)\u001b[0m\n\u001b[0;32m    433\u001b[0m \u001b[39mtry\u001b[39;00m:\n\u001b[1;32m--> 434\u001b[0m     scheme, auth, host, port, path, query, fragment \u001b[39m=\u001b[39m parse_url(url)\n\u001b[0;32m    435\u001b[0m \u001b[39mexcept\u001b[39;00m LocationParseError \u001b[39mas\u001b[39;00m e:\n",
      "File \u001b[1;32mc:\\Users\\Tito\\AppData\\Local\\Programs\\Python\\Python311\\Lib\\site-packages\\urllib3\\util\\url.py:451\u001b[0m, in \u001b[0;36mparse_url\u001b[1;34m(url)\u001b[0m\n\u001b[0;32m    450\u001b[0m \u001b[39mexcept\u001b[39;00m (\u001b[39mValueError\u001b[39;00m, \u001b[39mAttributeError\u001b[39;00m) \u001b[39mas\u001b[39;00m e:\n\u001b[1;32m--> 451\u001b[0m     \u001b[39mraise\u001b[39;00m LocationParseError(source_url) \u001b[39mfrom\u001b[39;00m \u001b[39me\u001b[39;00m\n\u001b[0;32m    453\u001b[0m \u001b[39m# For the sake of backwards compatibility we put empty\u001b[39;00m\n\u001b[0;32m    454\u001b[0m \u001b[39m# string values for path if there are any defined values\u001b[39;00m\n\u001b[0;32m    455\u001b[0m \u001b[39m# beyond the path in the URL.\u001b[39;00m\n\u001b[0;32m    456\u001b[0m \u001b[39m# TODO: Remove this when we break backwards compatibility.\u001b[39;00m\n",
      "\u001b[1;31mLocationParseError\u001b[0m: Failed to parse: [<span class=\"andes-pagination__arrow-title\">Siguiente</span>]",
      "\nDuring handling of the above exception, another exception occurred:\n",
      "\u001b[1;31mInvalidURL\u001b[0m                                Traceback (most recent call last)",
      "\u001b[1;32mc:\\Users\\Tito\\Desktop\\Python-practica\\webscraping\\rocode\\web_craping(prueva_tecnica).ipynb Cell 17\u001b[0m line \u001b[0;36m4\n\u001b[0;32m      <a href='vscode-notebook-cell:/c%3A/Users/Tito/Desktop/Python-practica/webscraping/rocode/web_craping%28prueva_tecnica%29.ipynb#X23sZmlsZQ%3D%3D?line=0'>1</a>\u001b[0m siguente\u001b[39m=\u001b[39m\u001b[39m\"\u001b[39m\u001b[39mhttps://listado.mercadolibre.com.ar/rodilleras-deportivas#D[A:rodilleras\u001b[39m\u001b[39m%20d\u001b[39;00m\u001b[39meportivas]\u001b[39m\u001b[39m\"\u001b[39m\n\u001b[0;32m      <a href='vscode-notebook-cell:/c%3A/Users/Tito/Desktop/Python-practica/webscraping/rocode/web_craping%28prueva_tecnica%29.ipynb#X23sZmlsZQ%3D%3D?line=2'>3</a>\u001b[0m \u001b[39mwhile\u001b[39;00m \u001b[39mTrue\u001b[39;00m :\n\u001b[1;32m----> <a href='vscode-notebook-cell:/c%3A/Users/Tito/Desktop/Python-practica/webscraping/rocode/web_craping%28prueva_tecnica%29.ipynb#X23sZmlsZQ%3D%3D?line=3'>4</a>\u001b[0m     r\u001b[39m=\u001b[39m requests\u001b[39m.\u001b[39;49mget(siguiente)\n\u001b[0;32m      <a href='vscode-notebook-cell:/c%3A/Users/Tito/Desktop/Python-practica/webscraping/rocode/web_craping%28prueva_tecnica%29.ipynb#X23sZmlsZQ%3D%3D?line=4'>5</a>\u001b[0m     \u001b[39mif\u001b[39;00m r\u001b[39m.\u001b[39mstatus_code\u001b[39m==\u001b[39m\u001b[39m200\u001b[39m:\n\u001b[0;32m      <a href='vscode-notebook-cell:/c%3A/Users/Tito/Desktop/Python-practica/webscraping/rocode/web_craping%28prueva_tecnica%29.ipynb#X23sZmlsZQ%3D%3D?line=5'>6</a>\u001b[0m         soup \u001b[39m=\u001b[39m BeautifulSoup(r\u001b[39m.\u001b[39mcontent,\u001b[39m'\u001b[39m\u001b[39mhtml.parser\u001b[39m\u001b[39m'\u001b[39m)\n",
      "File \u001b[1;32mc:\\Users\\Tito\\AppData\\Local\\Programs\\Python\\Python311\\Lib\\site-packages\\requests\\api.py:73\u001b[0m, in \u001b[0;36mget\u001b[1;34m(url, params, **kwargs)\u001b[0m\n\u001b[0;32m     62\u001b[0m \u001b[39mdef\u001b[39;00m \u001b[39mget\u001b[39m(url, params\u001b[39m=\u001b[39m\u001b[39mNone\u001b[39;00m, \u001b[39m*\u001b[39m\u001b[39m*\u001b[39mkwargs):\n\u001b[0;32m     63\u001b[0m \u001b[39m    \u001b[39m\u001b[39mr\u001b[39m\u001b[39m\"\"\"Sends a GET request.\u001b[39;00m\n\u001b[0;32m     64\u001b[0m \n\u001b[0;32m     65\u001b[0m \u001b[39m    :param url: URL for the new :class:`Request` object.\u001b[39;00m\n\u001b[1;32m   (...)\u001b[0m\n\u001b[0;32m     70\u001b[0m \u001b[39m    :rtype: requests.Response\u001b[39;00m\n\u001b[0;32m     71\u001b[0m \u001b[39m    \"\"\"\u001b[39;00m\n\u001b[1;32m---> 73\u001b[0m     \u001b[39mreturn\u001b[39;00m request(\u001b[39m\"\u001b[39;49m\u001b[39mget\u001b[39;49m\u001b[39m\"\u001b[39;49m, url, params\u001b[39m=\u001b[39;49mparams, \u001b[39m*\u001b[39;49m\u001b[39m*\u001b[39;49mkwargs)\n",
      "File \u001b[1;32mc:\\Users\\Tito\\AppData\\Local\\Programs\\Python\\Python311\\Lib\\site-packages\\requests\\api.py:59\u001b[0m, in \u001b[0;36mrequest\u001b[1;34m(method, url, **kwargs)\u001b[0m\n\u001b[0;32m     55\u001b[0m \u001b[39m# By using the 'with' statement we are sure the session is closed, thus we\u001b[39;00m\n\u001b[0;32m     56\u001b[0m \u001b[39m# avoid leaving sockets open which can trigger a ResourceWarning in some\u001b[39;00m\n\u001b[0;32m     57\u001b[0m \u001b[39m# cases, and look like a memory leak in others.\u001b[39;00m\n\u001b[0;32m     58\u001b[0m \u001b[39mwith\u001b[39;00m sessions\u001b[39m.\u001b[39mSession() \u001b[39mas\u001b[39;00m session:\n\u001b[1;32m---> 59\u001b[0m     \u001b[39mreturn\u001b[39;00m session\u001b[39m.\u001b[39;49mrequest(method\u001b[39m=\u001b[39;49mmethod, url\u001b[39m=\u001b[39;49murl, \u001b[39m*\u001b[39;49m\u001b[39m*\u001b[39;49mkwargs)\n",
      "File \u001b[1;32mc:\\Users\\Tito\\AppData\\Local\\Programs\\Python\\Python311\\Lib\\site-packages\\requests\\sessions.py:575\u001b[0m, in \u001b[0;36mSession.request\u001b[1;34m(self, method, url, params, data, headers, cookies, files, auth, timeout, allow_redirects, proxies, hooks, stream, verify, cert, json)\u001b[0m\n\u001b[0;32m    562\u001b[0m \u001b[39m# Create the Request.\u001b[39;00m\n\u001b[0;32m    563\u001b[0m req \u001b[39m=\u001b[39m Request(\n\u001b[0;32m    564\u001b[0m     method\u001b[39m=\u001b[39mmethod\u001b[39m.\u001b[39mupper(),\n\u001b[0;32m    565\u001b[0m     url\u001b[39m=\u001b[39murl,\n\u001b[1;32m   (...)\u001b[0m\n\u001b[0;32m    573\u001b[0m     hooks\u001b[39m=\u001b[39mhooks,\n\u001b[0;32m    574\u001b[0m )\n\u001b[1;32m--> 575\u001b[0m prep \u001b[39m=\u001b[39m \u001b[39mself\u001b[39;49m\u001b[39m.\u001b[39;49mprepare_request(req)\n\u001b[0;32m    577\u001b[0m proxies \u001b[39m=\u001b[39m proxies \u001b[39mor\u001b[39;00m {}\n\u001b[0;32m    579\u001b[0m settings \u001b[39m=\u001b[39m \u001b[39mself\u001b[39m\u001b[39m.\u001b[39mmerge_environment_settings(\n\u001b[0;32m    580\u001b[0m     prep\u001b[39m.\u001b[39murl, proxies, stream, verify, cert\n\u001b[0;32m    581\u001b[0m )\n",
      "File \u001b[1;32mc:\\Users\\Tito\\AppData\\Local\\Programs\\Python\\Python311\\Lib\\site-packages\\requests\\sessions.py:486\u001b[0m, in \u001b[0;36mSession.prepare_request\u001b[1;34m(self, request)\u001b[0m\n\u001b[0;32m    483\u001b[0m     auth \u001b[39m=\u001b[39m get_netrc_auth(request\u001b[39m.\u001b[39murl)\n\u001b[0;32m    485\u001b[0m p \u001b[39m=\u001b[39m PreparedRequest()\n\u001b[1;32m--> 486\u001b[0m p\u001b[39m.\u001b[39;49mprepare(\n\u001b[0;32m    487\u001b[0m     method\u001b[39m=\u001b[39;49mrequest\u001b[39m.\u001b[39;49mmethod\u001b[39m.\u001b[39;49mupper(),\n\u001b[0;32m    488\u001b[0m     url\u001b[39m=\u001b[39;49mrequest\u001b[39m.\u001b[39;49murl,\n\u001b[0;32m    489\u001b[0m     files\u001b[39m=\u001b[39;49mrequest\u001b[39m.\u001b[39;49mfiles,\n\u001b[0;32m    490\u001b[0m     data\u001b[39m=\u001b[39;49mrequest\u001b[39m.\u001b[39;49mdata,\n\u001b[0;32m    491\u001b[0m     json\u001b[39m=\u001b[39;49mrequest\u001b[39m.\u001b[39;49mjson,\n\u001b[0;32m    492\u001b[0m     headers\u001b[39m=\u001b[39;49mmerge_setting(\n\u001b[0;32m    493\u001b[0m         request\u001b[39m.\u001b[39;49mheaders, \u001b[39mself\u001b[39;49m\u001b[39m.\u001b[39;49mheaders, dict_class\u001b[39m=\u001b[39;49mCaseInsensitiveDict\n\u001b[0;32m    494\u001b[0m     ),\n\u001b[0;32m    495\u001b[0m     params\u001b[39m=\u001b[39;49mmerge_setting(request\u001b[39m.\u001b[39;49mparams, \u001b[39mself\u001b[39;49m\u001b[39m.\u001b[39;49mparams),\n\u001b[0;32m    496\u001b[0m     auth\u001b[39m=\u001b[39;49mmerge_setting(auth, \u001b[39mself\u001b[39;49m\u001b[39m.\u001b[39;49mauth),\n\u001b[0;32m    497\u001b[0m     cookies\u001b[39m=\u001b[39;49mmerged_cookies,\n\u001b[0;32m    498\u001b[0m     hooks\u001b[39m=\u001b[39;49mmerge_hooks(request\u001b[39m.\u001b[39;49mhooks, \u001b[39mself\u001b[39;49m\u001b[39m.\u001b[39;49mhooks),\n\u001b[0;32m    499\u001b[0m )\n\u001b[0;32m    500\u001b[0m \u001b[39mreturn\u001b[39;00m p\n",
      "File \u001b[1;32mc:\\Users\\Tito\\AppData\\Local\\Programs\\Python\\Python311\\Lib\\site-packages\\requests\\models.py:368\u001b[0m, in \u001b[0;36mPreparedRequest.prepare\u001b[1;34m(self, method, url, headers, files, data, params, auth, cookies, hooks, json)\u001b[0m\n\u001b[0;32m    365\u001b[0m \u001b[39m\u001b[39m\u001b[39m\"\"\"Prepares the entire request with the given parameters.\"\"\"\u001b[39;00m\n\u001b[0;32m    367\u001b[0m \u001b[39mself\u001b[39m\u001b[39m.\u001b[39mprepare_method(method)\n\u001b[1;32m--> 368\u001b[0m \u001b[39mself\u001b[39;49m\u001b[39m.\u001b[39;49mprepare_url(url, params)\n\u001b[0;32m    369\u001b[0m \u001b[39mself\u001b[39m\u001b[39m.\u001b[39mprepare_headers(headers)\n\u001b[0;32m    370\u001b[0m \u001b[39mself\u001b[39m\u001b[39m.\u001b[39mprepare_cookies(cookies)\n",
      "File \u001b[1;32mc:\\Users\\Tito\\AppData\\Local\\Programs\\Python\\Python311\\Lib\\site-packages\\requests\\models.py:436\u001b[0m, in \u001b[0;36mPreparedRequest.prepare_url\u001b[1;34m(self, url, params)\u001b[0m\n\u001b[0;32m    434\u001b[0m     scheme, auth, host, port, path, query, fragment \u001b[39m=\u001b[39m parse_url(url)\n\u001b[0;32m    435\u001b[0m \u001b[39mexcept\u001b[39;00m LocationParseError \u001b[39mas\u001b[39;00m e:\n\u001b[1;32m--> 436\u001b[0m     \u001b[39mraise\u001b[39;00m InvalidURL(\u001b[39m*\u001b[39me\u001b[39m.\u001b[39margs)\n\u001b[0;32m    438\u001b[0m \u001b[39mif\u001b[39;00m \u001b[39mnot\u001b[39;00m scheme:\n\u001b[0;32m    439\u001b[0m     \u001b[39mraise\u001b[39;00m MissingSchema(\n\u001b[0;32m    440\u001b[0m         \u001b[39mf\u001b[39m\u001b[39m\"\u001b[39m\u001b[39mInvalid URL \u001b[39m\u001b[39m{\u001b[39;00murl\u001b[39m!r}\u001b[39;00m\u001b[39m: No scheme supplied. \u001b[39m\u001b[39m\"\u001b[39m\n\u001b[0;32m    441\u001b[0m         \u001b[39mf\u001b[39m\u001b[39m\"\u001b[39m\u001b[39mPerhaps you meant https://\u001b[39m\u001b[39m{\u001b[39;00murl\u001b[39m}\u001b[39;00m\u001b[39m?\u001b[39m\u001b[39m\"\u001b[39m\n\u001b[0;32m    442\u001b[0m     )\n",
      "\u001b[1;31mInvalidURL\u001b[0m: Failed to parse: [<span class=\"andes-pagination__arrow-title\">Siguiente</span>]"
     ]
    }
   ],
   "source": [
    "siguente=\"https://listado.mercadolibre.com.ar/rodilleras-deportivas#D[A:rodilleras%20deportivas]\"\n",
    "\n",
    "while True :\n",
    "    r= requests.get(siguiente)\n",
    "    if r.status_code==200:\n",
    "        soup = BeautifulSoup(r.content,'html.parser')\n",
    "        #titulos\n",
    "        titulos = soup.find_all(\"h2\",attrs={\"class\":\"ui-search-item__title\"})\n",
    "        titulos = [i.text for i in titulos]\n",
    "        lista_titulos.extend(titulos)\n",
    "    #     #url\n",
    "        urls = soup.find_all(\"a\",attrs={\"class\":\"ui-search-item__group__element ui-search-link\"})\n",
    "        urls = [i.text for i in urls]\n",
    "        lista_urls.extend(urls)\n",
    "    #     #precios\n",
    "    #     dom = etree.HTML(str(soup))\n",
    "    #     precios = dom.xpath('//li[@class=\"ui-search-layout__item\"]//div[2]//div[2]//div[1]//div[1]//div[1]//div[1]//div[1]//span[2]')\n",
    "        precios = soup.find_all('span',class_=\"andes-money-amount ui-search-price__part ui-search-price__part--medium andes-money-amount--cents-superscript\")\n",
    "        precios = [i.text for i in precios]\n",
    "        lista_precios.extend[precios]\n",
    "\n",
    "        ini = soup.find('span',attrs={'class':\"andes-pagination__link\"}).text\n",
    "        ini = int(ini)\n",
    "        can = soup.find('li',attrs={'class':'andes-pagination__page-count'})\n",
    "        can = int(can.text.split(\" \")[1])\n",
    "\n",
    "    # else:\n",
    "    #     break  \n",
    "    # print(ini,can)  \n",
    "    # if ini == can:\n",
    "    #     break\n",
    "    # siguiente = dom.xpath('//div[@class=\"ui-search-pagination\"]//nav[1]//ul[1]//li[3]//a')"
   ]
  }
 ],
 "metadata": {
  "kernelspec": {
   "display_name": "Python 3",
   "language": "python",
   "name": "python3"
  },
  "language_info": {
   "codemirror_mode": {
    "name": "ipython",
    "version": 3
   },
   "file_extension": ".py",
   "mimetype": "text/x-python",
   "name": "python",
   "nbconvert_exporter": "python",
   "pygments_lexer": "ipython3",
   "version": "3.11.5"
  }
 },
 "nbformat": 4,
 "nbformat_minor": 2
}
