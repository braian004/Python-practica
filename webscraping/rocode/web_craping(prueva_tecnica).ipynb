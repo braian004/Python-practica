{
 "cells": [
  {
   "cell_type": "code",
   "execution_count": 46,
   "metadata": {},
   "outputs": [],
   "source": [
    "import pandas as pd\n",
    "import requests\n",
    "from bs4 import BeautifulSoup\n",
    "from lxml import etree\n",
    "# from selenium import webdriver\n",
    "# from webdriver_manager.microsoft import EdgeChromiumDriverManager\n",
    "# from webdriver_manager.chrome import ChromeDriverManager"
   ]
  },
  {
   "cell_type": "code",
   "execution_count": 65,
   "metadata": {},
   "outputs": [],
   "source": [
    "r = requests.get(\"https://listado.mercadolibre.com.ar/pc\")"
   ]
  },
  {
   "cell_type": "code",
   "execution_count": 31,
   "metadata": {},
   "outputs": [
    {
     "data": {
      "text/plain": [
       "200"
      ]
     },
     "execution_count": 31,
     "metadata": {},
     "output_type": "execute_result"
    }
   ],
   "source": [
    "r.status_code"
   ]
  },
  {
   "cell_type": "code",
   "execution_count": 32,
   "metadata": {},
   "outputs": [],
   "source": [
    "soup = BeautifulSoup(r.content,'html.parser')\n"
   ]
  },
  {
   "cell_type": "code",
   "execution_count": 33,
   "metadata": {},
   "outputs": [],
   "source": [
    "titulos = soup.find_all('h2',class_=\"ui-search-item__title\")"
   ]
  },
  {
   "cell_type": "code",
   "execution_count": 83,
   "metadata": {},
   "outputs": [
    {
     "ename": "AttributeError",
     "evalue": "'str' object has no attribute 'text'",
     "output_type": "error",
     "traceback": [
      "\u001b[1;31m---------------------------------------------------------------------------\u001b[0m",
      "\u001b[1;31mAttributeError\u001b[0m                            Traceback (most recent call last)",
      "\u001b[1;32mc:\\Users\\Tito\\Desktop\\Python-practica\\webscraping\\rocode\\web_craping(prueva_tecnica).ipynb Cell 6\u001b[0m line \u001b[0;36m1\n\u001b[1;32m----> <a href='vscode-notebook-cell:/c%3A/Users/Tito/Desktop/Python-practica/webscraping/rocode/web_craping%28prueva_tecnica%29.ipynb#W5sZmlsZQ%3D%3D?line=0'>1</a>\u001b[0m titulos \u001b[39m=\u001b[39m [i\u001b[39m.\u001b[39;49mtext \u001b[39mfor\u001b[39;49;00m i \u001b[39min\u001b[39;49;00m titulos]\n\u001b[0;32m      <a href='vscode-notebook-cell:/c%3A/Users/Tito/Desktop/Python-practica/webscraping/rocode/web_craping%28prueva_tecnica%29.ipynb#W5sZmlsZQ%3D%3D?line=1'>2</a>\u001b[0m df \u001b[39m=\u001b[39m pd\u001b[39m.\u001b[39mDataFrame({\u001b[39m'\u001b[39m\u001b[39mtitulos\u001b[39m\u001b[39m'\u001b[39m:titulos})\n",
      "\u001b[1;32mc:\\Users\\Tito\\Desktop\\Python-practica\\webscraping\\rocode\\web_craping(prueva_tecnica).ipynb Cell 6\u001b[0m line \u001b[0;36m1\n\u001b[1;32m----> <a href='vscode-notebook-cell:/c%3A/Users/Tito/Desktop/Python-practica/webscraping/rocode/web_craping%28prueva_tecnica%29.ipynb#W5sZmlsZQ%3D%3D?line=0'>1</a>\u001b[0m titulos \u001b[39m=\u001b[39m [i\u001b[39m.\u001b[39;49mtext \u001b[39mfor\u001b[39;00m i \u001b[39min\u001b[39;00m titulos]\n\u001b[0;32m      <a href='vscode-notebook-cell:/c%3A/Users/Tito/Desktop/Python-practica/webscraping/rocode/web_craping%28prueva_tecnica%29.ipynb#W5sZmlsZQ%3D%3D?line=1'>2</a>\u001b[0m df \u001b[39m=\u001b[39m pd\u001b[39m.\u001b[39mDataFrame({\u001b[39m'\u001b[39m\u001b[39mtitulos\u001b[39m\u001b[39m'\u001b[39m:titulos})\n",
      "\u001b[1;31mAttributeError\u001b[0m: 'str' object has no attribute 'text'"
     ]
    }
   ],
   "source": [
    "titulos = [i.text for i in titulos]\n",
    "df = pd.DataFrame({'titulos':titulos})"
   ]
  },
  {
   "cell_type": "code",
   "execution_count": 35,
   "metadata": {},
   "outputs": [],
   "source": [
    "urls = soup.find_all(\"a\",attrs={\"class\":\"ui-search-item__group__element ui-search-link\"})"
   ]
  },
  {
   "cell_type": "code",
   "execution_count": 36,
   "metadata": {},
   "outputs": [],
   "source": [
    "urls = [i.get('href')for i in urls]"
   ]
  },
  {
   "cell_type": "markdown",
   "metadata": {},
   "source": [
    "### precios usando dom.xpath"
   ]
  },
  {
   "cell_type": "code",
   "execution_count": 37,
   "metadata": {},
   "outputs": [],
   "source": [
    "dom = etree.HTML(str(soup))\n",
    "precios = dom.xpath('//li[@class=\"ui-search-layout__item\"]//div[2]//div[2]//div[1]//div[1]//div[1]//div[1]//div[1]//span[2]')"
   ]
  },
  {
   "cell_type": "code",
   "execution_count": 38,
   "metadata": {},
   "outputs": [
    {
     "data": {
      "text/plain": [
       "[]"
      ]
     },
     "execution_count": 38,
     "metadata": {},
     "output_type": "execute_result"
    }
   ],
   "source": [
    "precios = [i.text for i in precios]\n",
    "precios\n",
    "\n"
   ]
  },
  {
   "cell_type": "code",
   "execution_count": 39,
   "metadata": {},
   "outputs": [
    {
     "data": {
      "text/html": [
       "<div>\n",
       "<style scoped>\n",
       "    .dataframe tbody tr th:only-of-type {\n",
       "        vertical-align: middle;\n",
       "    }\n",
       "\n",
       "    .dataframe tbody tr th {\n",
       "        vertical-align: top;\n",
       "    }\n",
       "\n",
       "    .dataframe thead th {\n",
       "        text-align: right;\n",
       "    }\n",
       "</style>\n",
       "<table border=\"1\" class=\"dataframe\">\n",
       "  <thead>\n",
       "    <tr style=\"text-align: right;\">\n",
       "      <th></th>\n",
       "      <th>Precio</th>\n",
       "    </tr>\n",
       "  </thead>\n",
       "  <tbody>\n",
       "  </tbody>\n",
       "</table>\n",
       "</div>"
      ],
      "text/plain": [
       "Empty DataFrame\n",
       "Columns: [Precio]\n",
       "Index: []"
      ]
     },
     "execution_count": 39,
     "metadata": {},
     "output_type": "execute_result"
    }
   ],
   "source": [
    "precios = [elemento for elemento in precios if elemento is not None]\n",
    "precios = pd.DataFrame({'Precio': precios})\n",
    "precios"
   ]
  },
  {
   "cell_type": "markdown",
   "metadata": {},
   "source": [
    "#### precios good "
   ]
  },
  {
   "cell_type": "code",
   "execution_count": 40,
   "metadata": {},
   "outputs": [],
   "source": [
    "precios = soup.find_all(\"span\",class_=\"andes-money-amount ui-search-price__part ui-search-price__part--medium andes-money-amount--cents-superscript\")"
   ]
  },
  {
   "cell_type": "code",
   "execution_count": 41,
   "metadata": {},
   "outputs": [],
   "source": [
    "precios = [i.text for i in precios]\n",
    "df = pd.DataFrame({'precios':precios})"
   ]
  },
  {
   "cell_type": "markdown",
   "metadata": {},
   "source": [
    "### download DataFrame y pasar a exel"
   ]
  },
  {
   "cell_type": "code",
   "execution_count": 42,
   "metadata": {},
   "outputs": [],
   "source": [
    "df = pd.DataFrame({'titulos':titulos,'precios':precios,'urls':urls})"
   ]
  },
  {
   "cell_type": "code",
   "execution_count": 43,
   "metadata": {},
   "outputs": [],
   "source": [
    "excel_file = 'pc-data.xlsx'\n",
    "csv_file = 'pc-data.csv'\n",
    "df.to_csv(excel_file, index=False)\n",
    "df.to_csv(csv_file, index= False)"
   ]
  },
  {
   "cell_type": "markdown",
   "metadata": {},
   "source": [
    "### all pages"
   ]
  },
  {
   "cell_type": "code",
   "execution_count": 44,
   "metadata": {},
   "outputs": [
    {
     "data": {
      "text/plain": [
       "'https://listado.mercadolibre.com.ar/computacion/pc-escritorio/pc/es-gamer/pc-gamers_Desde_49_NoIndex_True'"
      ]
     },
     "execution_count": 44,
     "metadata": {},
     "output_type": "execute_result"
    }
   ],
   "source": [
    "siguente = soup.find_all('a',class_=\"andes-pagination__link ui-search-link\")[0].get('href')\n",
    "siguente"
   ]
  },
  {
   "cell_type": "code",
   "execution_count": 45,
   "metadata": {},
   "outputs": [
    {
     "data": {
      "text/plain": [
       "'https://listado.mercadolibre.com.ar/computacion/pc-escritorio/pc/es-gamer/pc-gamers_Desde_49_NoIndex_True'"
      ]
     },
     "execution_count": 45,
     "metadata": {},
     "output_type": "execute_result"
    }
   ],
   "source": [
    "siguiente = dom.xpath('//div[@class=\"ui-search-pagination\"]//nav[@class=\"ui-search-pagination andes-pagination\"]//ul[@class=\"ui-search-pagination andes-pagination\"]//li[@class=\"andes-pagination__button andes-pagination__button--next\"]//a')[0].get('href')\n",
    "siguiente"
   ]
  },
  {
   "cell_type": "code",
   "execution_count": 46,
   "metadata": {},
   "outputs": [
    {
     "data": {
      "text/plain": [
       "1"
      ]
     },
     "execution_count": 46,
     "metadata": {},
     "output_type": "execute_result"
    }
   ],
   "source": [
    "ini = soup.find('span',class_=\"andes-pagination__link\").text\n",
    "ini = int(ini)\n",
    "ini"
   ]
  },
  {
   "cell_type": "code",
   "execution_count": 47,
   "metadata": {},
   "outputs": [
    {
     "data": {
      "text/plain": [
       "1"
      ]
     },
     "execution_count": 47,
     "metadata": {},
     "output_type": "execute_result"
    }
   ],
   "source": [
    "# //span[@class=\"andes-pagination__link\"]\n",
    "ini = soup.find('span',attrs={'class':\"andes-pagination__link\"}).text\n",
    "ini = int(ini)\n",
    "ini"
   ]
  },
  {
   "cell_type": "code",
   "execution_count": 48,
   "metadata": {},
   "outputs": [
    {
     "data": {
      "text/plain": [
       "42"
      ]
     },
     "execution_count": 48,
     "metadata": {},
     "output_type": "execute_result"
    }
   ],
   "source": [
    "can = soup.find('li',attrs={\"class\":\"andes-pagination__page-count\"})\n",
    "can = int(can.text.split(\" \")[1])#extraer solo el 42 \n",
    "can"
   ]
  },
  {
   "cell_type": "code",
   "execution_count": 49,
   "metadata": {},
   "outputs": [],
   "source": [
    "lista_titulos = []\n",
    "lista_urls = []\n",
    "lista_precios = []"
   ]
  },
  {
   "cell_type": "code",
   "execution_count": 50,
   "metadata": {},
   "outputs": [],
   "source": [
    "# import requests\n",
    "# from bs4 import BeautifulSoup\n",
    "\n",
    "# siguiente = \"https://listado.mercadolibre.com.ar/pc-gamers\"\n",
    "\n",
    "# while True:\n",
    "#     r = requests.get(siguiente)\n",
    "#     if r.status_code == 200:\n",
    "#         soup = BeautifulSoup(r.content, 'html.parser')\n",
    "\n",
    "#         # titulos\n",
    "#         titulos = soup.find_all('h2', class_=\"ui-search-item__title\")\n",
    "#         titulos = [i.text for i in titulos]\n",
    "#         lista_titulos.extend(titulos)\n",
    "\n",
    "#         # url\n",
    "#         urls = soup.find_all(\"a\", attrs={\"class\": \"ui-search-item__group__element ui-search-link\"})\n",
    "#         urls = [i['href'] for i in urls]\n",
    "#         lista_urls.extend(urls)\n",
    "\n",
    "#         # precios\n",
    "#         precios = soup.find_all(\"span\", class_=\"andes-money-amount ui-search-price__part ui-search-price__part--medium andes-money-amount--cents-superscript\")\n",
    "#         precios = [i.text for i in precios]\n",
    "#         lista_precios.extend(precios)\n",
    "\n",
    "#         ini = int(soup.find('span', class_=\"andes-pagination__link\").text)\n",
    "#         can = int(soup.find('li', attrs={\"class\": \"andes-pagination__page-count\"}).text.split(\" \")[1])\n",
    "#     else:\n",
    "#         break\n",
    "#     print(ini,can)\n",
    "#     if ini == can:\n",
    "#         break\n",
    "\n",
    "#     siguente = soup.find_all('a',class_=\"andes-pagination__link ui-search-link\")[0].get('href')\n",
    "    \n"
   ]
  },
  {
   "cell_type": "code",
   "execution_count": 64,
   "metadata": {},
   "outputs": [
    {
     "name": "stdout",
     "output_type": "stream",
     "text": [
      "                                                titulos     precios  \\\n",
      "0     Pc Armada Core I7 Intel 6 Gen 1 Tera 16 Gigas ...    $458.999   \n",
      "1     Pc Armada Gamer Cpu Amd Ryzen 5 4600g 1tb Ssd ...    $479.999   \n",
      "2     Pc De Escritorio Armada Completa Cpu Computado...    $377.310   \n",
      "3     Pc Armada Intel C I3 + 8 Gb Ram Ssd 240 Gab  K...    $238.999   \n",
      "4     Pc Computadora Completa Intel I3 1tb 8gb Con M...    $299.999   \n",
      "...                                                 ...         ...   \n",
      "2239  Pc Completa Core 2 Duo Dell Con Monitor 17  4 ...    $149.900   \n",
      "2240  Pc Completa 8gb Ram Monitor De 17 Lcd Wiffi Of...    $169.900   \n",
      "2241            Cpu Amd Ryzen 5 5600x / 8gb / Ssd 240gb  $1.596.463   \n",
      "2242  Computadora De Juegos - Intel I5 8gb 1tb O Ssd...    $572.583   \n",
      "2243  Pc Hp Windwos 7, 1gb Ram, Hd 40 Gb, Cd, Remate...     $39.999   \n",
      "\n",
      "                                                   urls  \n",
      "0     https://click1.mercadolibre.com.ar/mclics/clic...  \n",
      "1     https://click1.mercadolibre.com.ar/mclics/clic...  \n",
      "2     https://click1.mercadolibre.com.ar/mclics/clic...  \n",
      "3     https://articulo.mercadolibre.com.ar/MLA-93012...  \n",
      "4     https://articulo.mercadolibre.com.ar/MLA-11069...  \n",
      "...                                                 ...  \n",
      "2239  https://articulo.mercadolibre.com.ar/MLA-74920...  \n",
      "2240  https://articulo.mercadolibre.com.ar/MLA-13862...  \n",
      "2241  https://articulo.mercadolibre.com.ar/MLA-91659...  \n",
      "2242  https://articulo.mercadolibre.com.ar/MLA-68751...  \n",
      "2243  https://articulo.mercadolibre.com.ar/MLA-75634...  \n",
      "\n",
      "[2244 rows x 3 columns]\n",
      "Número total de títulos: 2244\n",
      "Numero total de URL: 2244\n",
      "Numero total de precios: 2244\n"
     ]
    }
   ],
   "source": [
    "import requests\n",
    "from bs4 import BeautifulSoup\n",
    "import pandas as pd\n",
    "\n",
    "url_base = \"https://listado.mercadolibre.com.ar/computacion/pc-escritorio/pc/pc_Desde_{}_NoIndex_True\"\n",
    "total_titulos = 0\n",
    "total_urls = 0\n",
    "total_precios = 0\n",
    "\n",
    "# Listas para almacenar los datos\n",
    "titulos_totales = []\n",
    "urls_totales = []\n",
    "precios_totales = []\n",
    "\n",
    "for i in range(1, 2016, 48):\n",
    "    url = url_base.format(i)\n",
    "    response = requests.get(url)\n",
    "\n",
    "    if response.status_code == 200:\n",
    "        soup = BeautifulSoup(response.text, 'html.parser')\n",
    "\n",
    "        # Titulos\n",
    "        titulos = soup.find_all('h2', class_=\"ui-search-item__title\")\n",
    "        titulos = [titulo.text for titulo in titulos]\n",
    "        titulos_totales.extend(titulos)\n",
    "        total_titulos += len(titulos)\n",
    "\n",
    "        # URL\n",
    "        urls = soup.find_all(\"a\", attrs={\"class\": \"ui-search-item__group__element ui-search-link\"})\n",
    "        urls = [a['href'] for a in urls]\n",
    "        urls_totales.extend(urls)\n",
    "        total_urls += len(urls)\n",
    "\n",
    "        # Precios\n",
    "        precios = soup.find_all(\"span\", class_=\"andes-money-amount ui-search-price__part ui-search-price__part--medium andes-money-amount--cents-superscript\")\n",
    "        precios = [precio.text for precio in precios]\n",
    "        precios_totales.extend(precios)\n",
    "        total_precios += len(precios)\n",
    "\n",
    "    else:\n",
    "        print(f\"Error al acceder a la página {url}\")\n",
    "\n",
    "# Crear un DataFrame con los datos recopilados\n",
    "df = pd.DataFrame({'titulos': titulos_totales, 'precios': precios_totales, 'urls': urls_totales})\n",
    "\n",
    "# Imprimir el DataFrame\n",
    "print(df)\n",
    "\n",
    "# Imprimir el número total de títulos, URLs y precios\n",
    "print(f\"Número total de títulos: {total_titulos}\")\n",
    "print(f\"Numero total de URL: {total_urls}\")\n",
    "print(f\"Numero total de precios: {total_precios}\")\n"
   ]
  },
  {
   "cell_type": "code",
   "execution_count": 60,
   "metadata": {},
   "outputs": [
    {
     "data": {
      "text/html": [
       "<div>\n",
       "<style scoped>\n",
       "    .dataframe tbody tr th:only-of-type {\n",
       "        vertical-align: middle;\n",
       "    }\n",
       "\n",
       "    .dataframe tbody tr th {\n",
       "        vertical-align: top;\n",
       "    }\n",
       "\n",
       "    .dataframe thead th {\n",
       "        text-align: right;\n",
       "    }\n",
       "</style>\n",
       "<table border=\"1\" class=\"dataframe\">\n",
       "  <thead>\n",
       "    <tr style=\"text-align: right;\">\n",
       "      <th></th>\n",
       "      <th>titulos</th>\n",
       "      <th>precios</th>\n",
       "      <th>urls</th>\n",
       "    </tr>\n",
       "  </thead>\n",
       "  <tbody>\n",
       "    <tr>\n",
       "      <th>0</th>\n",
       "      <td>Pc Armada Core I7 Intel 6 Gen 1 Tera 16 Gigas ...</td>\n",
       "      <td>$458.999</td>\n",
       "      <td>https://click1.mercadolibre.com.ar/mclics/clic...</td>\n",
       "    </tr>\n",
       "    <tr>\n",
       "      <th>1</th>\n",
       "      <td>Pc De Escritorio Armada Completa Cpu Computado...</td>\n",
       "      <td>$377.310</td>\n",
       "      <td>https://click1.mercadolibre.com.ar/mclics/clic...</td>\n",
       "    </tr>\n",
       "    <tr>\n",
       "      <th>2</th>\n",
       "      <td>Computadora I3 10100 3.60ghz 8gbssd240gb Plac...</td>\n",
       "      <td>$425.999</td>\n",
       "      <td>https://click1.mercadolibre.com.ar/mclics/clic...</td>\n",
       "    </tr>\n",
       "    <tr>\n",
       "      <th>3</th>\n",
       "      <td>Pc Armada Intel C I3 + 8 Gb Ram Ssd 240 Gab  K...</td>\n",
       "      <td>$238.999</td>\n",
       "      <td>https://articulo.mercadolibre.com.ar/MLA-93012...</td>\n",
       "    </tr>\n",
       "    <tr>\n",
       "      <th>4</th>\n",
       "      <td>Pc Computadora Completa Intel I3 1tb 8gb Con M...</td>\n",
       "      <td>$299.999</td>\n",
       "      <td>https://articulo.mercadolibre.com.ar/MLA-11069...</td>\n",
       "    </tr>\n",
       "    <tr>\n",
       "      <th>...</th>\n",
       "      <td>...</td>\n",
       "      <td>...</td>\n",
       "      <td>...</td>\n",
       "    </tr>\n",
       "    <tr>\n",
       "      <th>2263</th>\n",
       "      <td>Pc Dell /hp Core 2  4 Gb Ram  Disco 80gb Wiffi...</td>\n",
       "      <td>$89.900</td>\n",
       "      <td>https://articulo.mercadolibre.com.ar/MLA-64434...</td>\n",
       "    </tr>\n",
       "    <tr>\n",
       "      <th>2264</th>\n",
       "      <td>Pc Armada Gamer Amd Ryzen 3 3200g 8gb 240 Nvme...</td>\n",
       "      <td>$791.765</td>\n",
       "      <td>https://articulo.mercadolibre.com.ar/MLA-13725...</td>\n",
       "    </tr>\n",
       "    <tr>\n",
       "      <th>2265</th>\n",
       "      <td>Pc Armada Amd Athlon 8gb Ram 240gb Ssd Wifi</td>\n",
       "      <td>$503.538</td>\n",
       "      <td>https://articulo.mercadolibre.com.ar/MLA-85015...</td>\n",
       "    </tr>\n",
       "    <tr>\n",
       "      <th>2266</th>\n",
       "      <td>Pc Gamer Aerocool Ryzen 5 5600g 8gb Ram Ssd 24...</td>\n",
       "      <td>$1.827.670</td>\n",
       "      <td>https://articulo.mercadolibre.com.ar/MLA-13684...</td>\n",
       "    </tr>\n",
       "    <tr>\n",
       "      <th>2267</th>\n",
       "      <td>Servidor Dell T30 Poweredge Intel Xeon Ram 8gb...</td>\n",
       "      <td>$659.999</td>\n",
       "      <td>https://articulo.mercadolibre.com.ar/MLA-13795...</td>\n",
       "    </tr>\n",
       "  </tbody>\n",
       "</table>\n",
       "<p>2268 rows × 3 columns</p>\n",
       "</div>"
      ],
      "text/plain": [
       "                                                titulos     precios  \\\n",
       "0     Pc Armada Core I7 Intel 6 Gen 1 Tera 16 Gigas ...    $458.999   \n",
       "1     Pc De Escritorio Armada Completa Cpu Computado...    $377.310   \n",
       "2      Computadora I3 10100 3.60ghz 8gbssd240gb Plac...    $425.999   \n",
       "3     Pc Armada Intel C I3 + 8 Gb Ram Ssd 240 Gab  K...    $238.999   \n",
       "4     Pc Computadora Completa Intel I3 1tb 8gb Con M...    $299.999   \n",
       "...                                                 ...         ...   \n",
       "2263  Pc Dell /hp Core 2  4 Gb Ram  Disco 80gb Wiffi...     $89.900   \n",
       "2264  Pc Armada Gamer Amd Ryzen 3 3200g 8gb 240 Nvme...    $791.765   \n",
       "2265        Pc Armada Amd Athlon 8gb Ram 240gb Ssd Wifi    $503.538   \n",
       "2266  Pc Gamer Aerocool Ryzen 5 5600g 8gb Ram Ssd 24...  $1.827.670   \n",
       "2267  Servidor Dell T30 Poweredge Intel Xeon Ram 8gb...    $659.999   \n",
       "\n",
       "                                                   urls  \n",
       "0     https://click1.mercadolibre.com.ar/mclics/clic...  \n",
       "1     https://click1.mercadolibre.com.ar/mclics/clic...  \n",
       "2     https://click1.mercadolibre.com.ar/mclics/clic...  \n",
       "3     https://articulo.mercadolibre.com.ar/MLA-93012...  \n",
       "4     https://articulo.mercadolibre.com.ar/MLA-11069...  \n",
       "...                                                 ...  \n",
       "2263  https://articulo.mercadolibre.com.ar/MLA-64434...  \n",
       "2264  https://articulo.mercadolibre.com.ar/MLA-13725...  \n",
       "2265  https://articulo.mercadolibre.com.ar/MLA-85015...  \n",
       "2266  https://articulo.mercadolibre.com.ar/MLA-13684...  \n",
       "2267  https://articulo.mercadolibre.com.ar/MLA-13795...  \n",
       "\n",
       "[2268 rows x 3 columns]"
      ]
     },
     "execution_count": 60,
     "metadata": {},
     "output_type": "execute_result"
    }
   ],
   "source": [
    "df"
   ]
  },
  {
   "cell_type": "code",
   "execution_count": 61,
   "metadata": {},
   "outputs": [],
   "source": [
    "\n",
    "# excel_file = 'pc-data-all'\n",
    "df.to_csv('pag_all.xlsx', index=False)"
   ]
  }
 ],
 "metadata": {
  "kernelspec": {
   "display_name": "Python 3",
   "language": "python",
   "name": "python3"
  },
  "language_info": {
   "codemirror_mode": {
    "name": "ipython",
    "version": 3
   },
   "file_extension": ".py",
   "mimetype": "text/x-python",
   "name": "python",
   "nbconvert_exporter": "python",
   "pygments_lexer": "ipython3",
   "version": "3.11.5"
  }
 },
 "nbformat": 4,
 "nbformat_minor": 2
}
