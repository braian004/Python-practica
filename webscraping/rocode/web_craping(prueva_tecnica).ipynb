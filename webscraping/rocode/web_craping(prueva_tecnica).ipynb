{
 "cells": [
  {
   "cell_type": "code",
   "execution_count": 4,
   "metadata": {},
   "outputs": [],
   "source": [
    "import pandas as pd\n",
    "import requests\n",
    "from bs4 import BeautifulSoup\n",
    "from lxml import etree"
   ]
  },
  {
   "cell_type": "code",
   "execution_count": 5,
   "metadata": {},
   "outputs": [],
   "source": [
    "r = requests.get(\"https://listado.mercadolibre.com.ar/rodilleras-deportivas#D[A:rodilleras%20deportivas]\")"
   ]
  },
  {
   "cell_type": "code",
   "execution_count": 8,
   "metadata": {},
   "outputs": [
    {
     "data": {
      "text/plain": [
       "200"
      ]
     },
     "execution_count": 8,
     "metadata": {},
     "output_type": "execute_result"
    }
   ],
   "source": [
    "r.status_code"
   ]
  },
  {
   "cell_type": "code",
   "execution_count": 12,
   "metadata": {},
   "outputs": [],
   "source": [
    "soup = BeautifulSoup(r.content,'html.parser')\n"
   ]
  },
  {
   "cell_type": "code",
   "execution_count": 14,
   "metadata": {},
   "outputs": [],
   "source": [
    "titulos = soup.find_all('h2',attrs={'class':'ui-search-item__title'})"
   ]
  },
  {
   "cell_type": "code",
   "execution_count": 15,
   "metadata": {},
   "outputs": [],
   "source": [
    "titulos = [i.text for i in titulos]"
   ]
  },
  {
   "cell_type": "code",
   "execution_count": 16,
   "metadata": {},
   "outputs": [],
   "source": [
    "urls = soup.find_all('a',attrs={\"class\":\"ui-search-item__title\"})"
   ]
  },
  {
   "cell_type": "code",
   "execution_count": 17,
   "metadata": {},
   "outputs": [],
   "source": [
    "urls = [i.get('href')for i in urls]"
   ]
  },
  {
   "cell_type": "code",
   "execution_count": 19,
   "metadata": {},
   "outputs": [],
   "source": [
    "dom = etree.HTML(str(soup))\n",
    "precios = dom.xpath('//li[@class=\"ui-search-layout__item\"]//div[2]//div[2]//div[1]//div[1]//div[1]//div[1]//div[1]//span[2]')"
   ]
  },
  {
   "cell_type": "code",
   "execution_count": 21,
   "metadata": {},
   "outputs": [],
   "source": [
    "precios = [i.text for i in precios]"
   ]
  },
  {
   "cell_type": "code",
   "execution_count": 22,
   "metadata": {},
   "outputs": [
    {
     "data": {
      "text/plain": [
       "['18.381',\n",
       " None,\n",
       " '12.250',\n",
       " None,\n",
       " '9.969',\n",
       " None,\n",
       " '5.459',\n",
       " None,\n",
       " '8.538',\n",
       " None,\n",
       " '6.943',\n",
       " None,\n",
       " '3.615',\n",
       " None,\n",
       " '20.999',\n",
       " None,\n",
       " '14.999',\n",
       " None,\n",
       " '10.202',\n",
       " None,\n",
       " '4.696',\n",
       " None,\n",
       " '14.514',\n",
       " None,\n",
       " '13.918',\n",
       " None,\n",
       " '6.162',\n",
       " None,\n",
       " '1.760',\n",
       " None,\n",
       " '14.402',\n",
       " None,\n",
       " '14.249',\n",
       " None,\n",
       " '24.224',\n",
       " None,\n",
       " '23.000',\n",
       " None,\n",
       " '8.500',\n",
       " None,\n",
       " '5.099',\n",
       " None,\n",
       " '12.000',\n",
       " None,\n",
       " '5.191',\n",
       " None,\n",
       " '6.200',\n",
       " None,\n",
       " '9.999',\n",
       " None,\n",
       " '12.169',\n",
       " None,\n",
       " '8.200',\n",
       " None,\n",
       " '5.191',\n",
       " None,\n",
       " '12.831',\n",
       " None,\n",
       " '8.799',\n",
       " None,\n",
       " '12.600',\n",
       " None,\n",
       " '11.900',\n",
       " None,\n",
       " '12.299',\n",
       " None,\n",
       " '9.969',\n",
       " None,\n",
       " '9.699',\n",
       " None,\n",
       " '13.791',\n",
       " None,\n",
       " '4.267',\n",
       " None,\n",
       " '15.727',\n",
       " None,\n",
       " '10.049',\n",
       " None,\n",
       " '9.699',\n",
       " None,\n",
       " '1.672',\n",
       " None,\n",
       " '12.896',\n",
       " None,\n",
       " '16.000',\n",
       " None,\n",
       " '4.900',\n",
       " None,\n",
       " '13.699',\n",
       " None,\n",
       " '13.150',\n",
       " None,\n",
       " '8.107',\n",
       " None,\n",
       " '13.150',\n",
       " None,\n",
       " '6.949',\n",
       " None,\n",
       " '11.990',\n",
       " None,\n",
       " '14.500',\n",
       " None,\n",
       " '15.000',\n",
       " None,\n",
       " '8.486',\n",
       " None]"
      ]
     },
     "execution_count": 22,
     "metadata": {},
     "output_type": "execute_result"
    }
   ],
   "source": [
    "precios"
   ]
  },
  {
   "cell_type": "code",
   "execution_count": 25,
   "metadata": {},
   "outputs": [],
   "source": [
    "siguiente = dom.xpath('//div[@class=\"ui-search-pagination\"]//nav[@class=\"ui-search-pagination andes-pagination\"]//ul[@class=\"ui-search-pagination andes-pagination\"]//li[@class=\"andes-pagination__button andes-pagination__button--next\"]//a')"
   ]
  },
  {
   "cell_type": "code",
   "execution_count": 24,
   "metadata": {},
   "outputs": [
    {
     "data": {
      "text/plain": [
       "[<Element a at 0x2774d144140>]"
      ]
     },
     "execution_count": 24,
     "metadata": {},
     "output_type": "execute_result"
    }
   ],
   "source": [
    "siguiente"
   ]
  },
  {
   "cell_type": "code",
   "execution_count": null,
   "metadata": {},
   "outputs": [],
   "source": []
  }
 ],
 "metadata": {
  "kernelspec": {
   "display_name": "Python 3",
   "language": "python",
   "name": "python3"
  },
  "language_info": {
   "codemirror_mode": {
    "name": "ipython",
    "version": 3
   },
   "file_extension": ".py",
   "mimetype": "text/x-python",
   "name": "python",
   "nbconvert_exporter": "python",
   "pygments_lexer": "ipython3",
   "version": "3.11.5"
  }
 },
 "nbformat": 4,
 "nbformat_minor": 2
}
