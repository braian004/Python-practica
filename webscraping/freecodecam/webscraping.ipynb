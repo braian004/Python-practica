{
 "cells": [
  {
   "cell_type": "code",
   "execution_count": 11,
   "metadata": {},
   "outputs": [],
   "source": [
    "from bs4 import BeautifulSoup\n",
    "import requests"
   ]
  },
  {
   "cell_type": "code",
   "execution_count": 12,
   "metadata": {},
   "outputs": [
    {
     "name": "stdout",
     "output_type": "stream",
     "text": [
      "Version de BeautifulSoup: 4.12.2\n",
      "Version de requests: 2.31.0\n"
     ]
    }
   ],
   "source": [
    "import bs4 #solo para chequeo\n",
    "print(\"Version de BeautifulSoup:\",bs4.__version__)\n",
    "print(\"Version de requests:\",requests.__version__)"
   ]
  },
  {
   "cell_type": "code",
   "execution_count": 13,
   "metadata": {},
   "outputs": [],
   "source": [
    "#import el  HTML\n",
    "url_base = \"https://scrapepark.org/\"\n",
    "pedidos_obtenidos = requests.get(url_base)\n",
    "html_obtenido = pedidos_obtenidos.text"
   ]
  },
  {
   "cell_type": "code",
   "execution_count": 14,
   "metadata": {},
   "outputs": [],
   "source": [
    "#2 \"Parsear\" this HTML\n",
    "soup = BeautifulSoup(html_obtenido,\"html.parser\")"
   ]
  },
  {
   "cell_type": "markdown",
   "metadata": {},
   "source": [
    "### El metodo find()"
   ]
  },
  {
   "cell_type": "code",
   "execution_count": 15,
   "metadata": {},
   "outputs": [
    {
     "name": "stdout",
     "output_type": "stream",
     "text": [
      "<h2>Why choose our skateboards?</h2>\n"
     ]
    }
   ],
   "source": [
    "primer_h2 = soup.find(\"h2\")\n",
    "print(primer_h2)"
   ]
  },
  {
   "cell_type": "code",
   "execution_count": 16,
   "metadata": {},
   "outputs": [
    {
     "name": "stdout",
     "output_type": "stream",
     "text": [
      "Why choose our skateboards?\n"
     ]
    }
   ],
   "source": [
    "#solo el text\n",
    "print(primer_h2.text)\n"
   ]
  },
  {
   "cell_type": "code",
   "execution_count": 17,
   "metadata": {},
   "outputs": [
    {
     "name": "stdout",
     "output_type": "stream",
     "text": [
      "Why choose our skateboards?\n"
     ]
    }
   ],
   "source": [
    "#equivalente a:\n",
    "print(soup.h2.text)"
   ]
  },
  {
   "cell_type": "markdown",
   "metadata": {},
   "source": [
    "### El metodo find all()"
   ]
  },
  {
   "cell_type": "code",
   "execution_count": 18,
   "metadata": {},
   "outputs": [
    {
     "name": "stdout",
     "output_type": "stream",
     "text": [
      "[<h2>Why choose our skateboards?</h2>, <h2>\n",
      "                  #<span>News</span>\n",
      "</h2>, <h2>Our Products</h2>, <h2>Testimonials</h2>, <h2 class=\"heading-container\">Prices</h2>]\n"
     ]
    }
   ],
   "source": [
    "h2_todos = soup.find_all('h2')\n",
    "print(h2_todos)"
   ]
  },
  {
   "cell_type": "code",
   "execution_count": 19,
   "metadata": {},
   "outputs": [
    {
     "name": "stdout",
     "output_type": "stream",
     "text": [
      "[<h2>Why choose our skateboards?</h2>]\n"
     ]
    }
   ],
   "source": [
    "#si usamos el parametro limit = 1,emulamos al metodo find\n",
    "h2_uno_solo = soup.find_all ('h2',limit=1)\n",
    "print(h2_uno_solo)"
   ]
  },
  {
   "cell_type": "markdown",
   "metadata": {},
   "source": [
    "### text and get_text"
   ]
  },
  {
   "cell_type": "code",
   "execution_count": 20,
   "metadata": {},
   "outputs": [
    {
     "name": "stdout",
     "output_type": "stream",
     "text": [
      "Why choose our skateboards?\n",
      "\n",
      "                  #News\n",
      "\n",
      "Our Products\n",
      "Testimonials\n",
      "Prices\n"
     ]
    }
   ],
   "source": [
    "#podemos iterar sobre un objeto\n",
    "for seccion in h2_todos:\n",
    "    print(seccion.text)"
   ]
  },
  {
   "cell_type": "code",
   "execution_count": 21,
   "metadata": {},
   "outputs": [
    {
     "name": "stdout",
     "output_type": "stream",
     "text": [
      "Why choose our skateboards?\n",
      "#News\n",
      "Our Products\n",
      "Testimonials\n",
      "Prices\n"
     ]
    }
   ],
   "source": [
    "#get text()para las funcionalidades\n",
    "for seccion in h2_todos:\n",
    "    print (seccion.get_text(strip=True))"
   ]
  },
  {
   "cell_type": "markdown",
   "metadata": {},
   "source": [
    "### utilizando atributo de las etiquetas"
   ]
  },
  {
   "cell_type": "code",
   "execution_count": 22,
   "metadata": {},
   "outputs": [
    {
     "name": "stdout",
     "output_type": "stream",
     "text": [
      "<div class=\"heading-container heading-center\" id=\"about\">\n",
      "<h2>Why choose our skateboards?</h2>\n",
      "</div>\n",
      " \n",
      "<div class=\"heading-container heading-center\" id=\"products\">\n",
      "<h2>Our Products</h2>\n",
      "</div>\n",
      " \n",
      "<div class=\"heading-container heading-center\">\n",
      "<h3>Subscribe to find more discounts</h3>\n",
      "</div>\n",
      " \n",
      "<div class=\"heading-container heading-center\">\n",
      "<h2>Testimonials</h2>\n",
      "</div>\n",
      " \n"
     ]
    }
   ],
   "source": [
    "#clase\n",
    "divs = soup.find_all('div', class_='heading-container heading-center')\n",
    "for div in divs:\n",
    "    print(div)\n",
    "    print(\" \")"
   ]
  },
  {
   "cell_type": "code",
   "execution_count": 23,
   "metadata": {},
   "outputs": [
    {
     "name": "stdout",
     "output_type": "stream",
     "text": [
      "<img alt=\"Skateboard Park\" src=\"images/slider-bg.jpg\"/>\n",
      "<img alt=\"Skateboard\" src=\"images/p2.jpg\"/>\n"
     ]
    }
   ],
   "source": [
    "# Todas las etiquetas que tegan el atrivuto \"src\"\n",
    "src_todos = soup.find_all(src=True)\n",
    "\n",
    "for elemento in src_todos:\n",
    "    if elemento['src'].endswith(\".jpg\"):\n",
    "        print(elemento)\n",
    "        "
   ]
  },
  {
   "cell_type": "code",
   "execution_count": 24,
   "metadata": {},
   "outputs": [
    {
     "name": "stdout",
     "output_type": "stream",
     "text": [
      "<img alt=\"Skateboard Park\" src=\"images/slider-bg.jpg\"/>\n",
      "<img alt=\"Skateboard\" src=\"images/p2.jpg\"/>\n"
     ]
    }
   ],
   "source": [
    "#Todas las etiquetas que tengan el atributo\"src\"\n",
    "src_todos = soup.find_all(src = True)\n",
    "\n",
    "for elemento in src_todos:\n",
    "    if elemento['src'].endswith(\".jpg\"):\n",
    "        print(elemento)\n",
    "        "
   ]
  },
  {
   "cell_type": "markdown",
   "metadata": {},
   "source": [
    "### ejemplo bajar todas las imagnes"
   ]
  },
  {
   "cell_type": "code",
   "execution_count": 25,
   "metadata": {},
   "outputs": [
    {
     "name": "stdout",
     "output_type": "stream",
     "text": [
      "[]\n"
     ]
    },
    {
     "name": "stdout",
     "output_type": "stream",
     "text": [
      "[]\n",
      "[]\n",
      "[]\n",
      "[]\n",
      "[]\n",
      "[]\n",
      "[]\n",
      "[]\n",
      "[]\n",
      "[]\n",
      "[]\n",
      "[]\n",
      "[]\n",
      "[]\n",
      "[]\n"
     ]
    }
   ],
   "source": [
    "#Bajar todas las las  imagnes \n",
    "url_imagenes=[] \n",
    "for i, imagnes in enumerate(src_todos):\n",
    "    if imagnes [\"src\"].endswith(\"png\"):\n",
    "\n",
    "        print(imagnes(\"src\"))\n",
    "        r = requests.get(f\"https://scrapepark.org/{imagnes('src')}\")\n",
    "        \n",
    "        with open (f\"imagenes_{i}.png\",'wb') as f:\n",
    "            f.write(r.content)"
   ]
  },
  {
   "cell_type": "markdown",
   "metadata": {},
   "source": [
    "### Tabla"
   ]
  },
  {
   "cell_type": "code",
   "execution_count": 26,
   "metadata": {},
   "outputs": [
    {
     "name": "stdout",
     "output_type": "stream",
     "text": [
      "[]\n"
     ]
    }
   ],
   "source": [
    "URL_BASE = 'https://scrapepark.org/courses/spanish/'\n",
    "URL_TABLA = soup.find_all(\"iframe\")[0]['src']\n",
    "\n",
    "requests_tabla = requests.get(f'{URL_BASE}/{URL_TABLA}')\n",
    "\n",
    "html_tabla = requests_tabla.text\n",
    "soup_tabla = BeautifulSoup(html_tabla,'html.parser')\n",
    "soup_tabla.find('tabla')\n",
    "\n",
    "productos_faltantes = soup_tabla.find_all(['th','td'],attrs={'style:color:red'})\n",
    "productos_faltantes = [talle.text for talle in productos_faltantes]\n",
    "\n",
    "print(productos_faltantes)"
   ]
  },
  {
   "cell_type": "code",
   "execution_count": 27,
   "metadata": {},
   "outputs": [],
   "source": [
    "divs = soup.find_all('div', class_= 'detail-box')\n",
    "producto = []\n",
    "precio = []\n",
    "\n",
    "for div in divs:\n",
    "    if (div.h6 is not None) and ('PatinetA' in div.h5.text):\n",
    "        producto = div.h5.get_text(strip=True)\n",
    "        precio = div.h6_text(strip=True). replace('$', '')\n",
    "        # Se puede agregar filtros\n",
    "        print(f'producto:{producto:<16} | precio :{precio}')\n",
    "        producto.append(producto)\n",
    "        precio.append(precio)\n",
    "        "
   ]
  }
 ],
 "metadata": {
  "kernelspec": {
   "display_name": "Python 3",
   "language": "python",
   "name": "python3"
  },
  "language_info": {
   "codemirror_mode": {
    "name": "ipython",
    "version": 3
   },
   "file_extension": ".py",
   "mimetype": "text/x-python",
   "name": "python",
   "nbconvert_exporter": "python",
   "pygments_lexer": "ipython3",
   "version": "3.11.5"
  }
 },
 "nbformat": 4,
 "nbformat_minor": 2
}
